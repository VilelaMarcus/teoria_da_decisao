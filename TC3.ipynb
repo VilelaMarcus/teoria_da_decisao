{
  "cells": [
    {
      "cell_type": "markdown",
      "metadata": {
        "id": "l1oWbvraZ2N-"
      },
      "source": [
        "# **Teoria da Decisão - TC3**\n",
        "\n",
        "### Marcos Rezende 2019027067\n",
        "### Tiago Porto 2019027202"
      ]
    },
    {
      "cell_type": "markdown",
      "metadata": {
        "id": "ROGgz_jNabgK"
      },
      "source": [
        "Instalação dos módulos utilizados"
      ]
    },
    {
      "cell_type": "code",
      "execution_count": 85,
      "metadata": {
        "id": "I1vrIJwAZ-y1"
      },
      "outputs": [],
      "source": [
        "import numpy as np\n",
        "import copy\n",
        "import pandas as pd\n",
        "import matplotlib.pyplot as plt\n",
        "import math\n",
        "import random\n",
        "class Struct:\n",
        "  pass\n"
      ]
    },
    {
      "cell_type": "markdown",
      "metadata": {
        "id": "KZimqVJl3G4I"
      },
      "source": [
        "Carrega os dados do problema para a variável probdata"
      ]
    },
    {
      "cell_type": "code",
      "execution_count": 86,
      "metadata": {
        "id": "qBOQql8e28Ko"
      },
      "outputs": [],
      "source": [
        "def probdef():\n",
        "  originaldata = pd.read_csv('clientes.csv', header=None)\n",
        "  dataframe = pd.DataFrame(originaldata)\n",
        "  probdata = Struct()\n",
        "  probdata.coord = []\n",
        "  for i in range(len(dataframe[0])):\n",
        "    probdata.coord.append([dataframe[0][i], dataframe[1][i]])\n",
        "\n",
        "  probdata.x = dataframe[0]\n",
        "  probdata.y = dataframe[1]\n",
        "  probdata.intensity = dataframe[2]\n",
        "  return probdata"
      ]
    },
    {
      "cell_type": "markdown",
      "metadata": {
        "id": "0L1wCp_sagsA"
      },
      "source": [
        "Definição da função Shake.\n",
        "As estruturas de vizinhança implementadas foram:\n",
        "\n",
        "\n",
        "*   Movimenta um número aleatório de PAs de 5 a 15 metros em qualquer direção\n",
        "*   Movimenta todos os PAs de 5 a 15 metros em qualquer direção\n",
        "*   Adiciona um novo PA\n"
      ]
    },
    {
      "cell_type": "code",
      "execution_count": 87,
      "metadata": {
        "id": "3CRsMQ-jajd1"
      },
      "outputs": [],
      "source": [
        "def shake(x,k):\n",
        "    y = copy.deepcopy(x)\n",
        "    r = np.random.randint(0, len(x.solution)) # número de PAs que serão movidos\n",
        "    if k == 1:             # Movimenta um número aleatório de PAs 5 metros em uma direção aleatória\n",
        "\n",
        "      for i in range(r):\n",
        "        movX = np.random.randint(-1,1)*5\n",
        "        movY = np.random.randint(-1,1)*5\n",
        "\n",
        "\n",
        "        if(y.solution[i][0] + movX < 400 and y.solution[i][0] + movX > 0):\n",
        "            y.solution[i][0] = y.solution[i][0] + movX\n",
        "        else:\n",
        "          y.solution[i][0] = y.solution[i][0] - movX\n",
        "\n",
        "        if(y.solution[i][1] + movY < 400 and y.solution[i][1] + movY > 0):\n",
        "            y.solution[i][1] = y.solution[i][1] + movY\n",
        "        else:\n",
        "          y.solution[i][1] = y.solution[i][1] - movY\n",
        "\n",
        "    elif k == 2:    # Movimenta TODOS os PAs 5 metros em uma direção aleatória\n",
        "      for i in range(len(x.solution)):\n",
        "        movX = np.random.randint(-1,1)*5*np.random.randint(1,3)\n",
        "        movY = np.random.randint(-1,1)*5*np.random.randint(1,3)\n",
        "        # print(movX, movY)\n",
        "\n",
        "        if(y.solution[i][0] + movX < 400 and y.solution[i][0] + movX > 0):\n",
        "            y.solution[i][0] = y.solution[i][0] + movX\n",
        "        else:\n",
        "          y.solution[i][0] = y.solution[i][0] - movX\n",
        "\n",
        "        if(y.solution[i][1] + movY < 400 and y.solution[i][1] + movY > 0):\n",
        "            y.solution[i][1] = y.solution[i][1] + movY\n",
        "        else:\n",
        "          y.solution[i][1] = y.solution[i][1] - movY\n",
        "\n",
        "    elif k == 3:\n",
        "        # Adiciona um novo PA em uma posição aleatória\n",
        "        # if(len(x.solution) < 25):\n",
        "        tempPA = [np.random.randint(0,81)*5, np.random.randint(0,81)*5]\n",
        "        y.solution.append(tempPA)\n",
        "    elif k == 4:\n",
        "      if(len(y.solution) > 1):\n",
        "        pos = np.random.randint(0, len(y.solution) - 1)\n",
        "        del y.solution[pos]\n",
        "    return y"
      ]
    },
    {
      "cell_type": "markdown",
      "metadata": {
        "id": "g38DkltyagrS"
      },
      "source": [
        "Definição da Heuristica Construtiva.\n",
        "A Lógica utilizada foi distribuir igualmente os PAs ao longo de toda a extensão do local"
      ]
    },
    {
      "cell_type": "code",
      "execution_count": 88,
      "metadata": {
        "id": "bGxSSbbcbPrh"
      },
      "outputs": [],
      "source": [
        "def generate_initial_solution(f):\n",
        "  # Distribuir igualmente 9 PAs por todo o ambiente\n",
        "\n",
        "  y = []\n",
        "  if f == \"f1\":\n",
        "    for i in range(3):\n",
        "      for j in range(3):\n",
        "        coordY = ((j)*133) + 70\n",
        "        coordX = ((i)*133) + 70\n",
        "        y.append([coordX,coordY])\n",
        "  elif f == \"f3\":\n",
        "    for i in range(5):\n",
        "      for j in range(5):\n",
        "        coordY = ((j)*80) + 60\n",
        "        coordX = ((i)*80) + 60\n",
        "        y.append([coordX,coordY])\n",
        "\n",
        "  else:\n",
        "    for i in range(5):\n",
        "      for j in range(5):\n",
        "        coordY = ((j)*80)\n",
        "        coordX = ((i)*80)\n",
        "        y.append([coordX,coordY])\n",
        "  x = Struct()\n",
        "  x.solution = y\n",
        "  return x\n",
        "\n",
        "# generate_initial_solution()"
      ]
    },
    {
      "cell_type": "markdown",
      "metadata": {
        "id": "WzKwGwoPCBnX"
      },
      "source": [
        "Troca de vizinhança\n"
      ]
    },
    {
      "cell_type": "code",
      "execution_count": 89,
      "metadata": {
        "id": "4pqF2H0DzJdL"
      },
      "outputs": [],
      "source": [
        "def neighborhoodChange(x, y, k):\n",
        "\n",
        "    if y.fitness < x.fitness:\n",
        "        x = copy.deepcopy(y)\n",
        "        k = 1\n",
        "    else:\n",
        "        k += 1\n",
        "\n",
        "    return x, k"
      ]
    },
    {
      "cell_type": "markdown",
      "metadata": {
        "id": "LPGSlWUnB6AJ"
      },
      "source": [
        "Função para calcular a distância euclidiana entre 2 pontos"
      ]
    },
    {
      "cell_type": "code",
      "execution_count": 90,
      "metadata": {
        "id": "3uFMyRHCOtGi"
      },
      "outputs": [],
      "source": [
        "def calcDist(coord1, coord2):\n",
        "  return abs(math.sqrt((coord1[0] - coord2[0])**2 + (coord1[1] - coord2[1])**2))\n"
      ]
    },
    {
      "cell_type": "markdown",
      "metadata": {
        "id": "dY1GRK9fCDWo"
      },
      "source": [
        "Definição da função objetivo e restrições\n"
      ]
    },
    {
      "cell_type": "code",
      "execution_count": 91,
      "metadata": {
        "id": "wBYdGcy3TI2O"
      },
      "outputs": [],
      "source": [
        "colors = [\n",
        "    \"#00FFFF\", \"#0000FF\", \"#008000\", \"#FFFF00\", \"#FFA500\",\n",
        "    \"#800080\", \"#00FF00\", \"#FF00FF\", \"#008080\", \"#FFD700\",\n",
        "    \"#A52A2A\", \"#696969\", \"#2E8B57\", \"#800000\", \"#9400D3\",\n",
        "    \"#00CED1\", \"#8A2BE2\", \"#6B8E23\", \"#20B2AA\", \"#32CD32\",\n",
        "    \"#808000\", \"#008B8B\", \"#483D8B\", \"#2F4F4F\", \"#008080\", \"#00FFFF\", \"#0000FF\", \"#008000\", \"#FFFF00\", \"#FFA500\",\n",
        "    \"#800080\", \"#00FF00\", \"#FF00FF\", \"#008080\", \"#FFD700\",\n",
        "    \"#A52A2A\", \"#696969\", \"#2E8B57\", \"#800000\", \"#9400D3\",\n",
        "    \"#00CED1\", \"#8A2BE2\", \"#6B8E23\", \"#20B2AA\", \"#32CD32\",\n",
        "    \"#808000\", \"#008B8B\", \"#483D8B\", \"#2F4F4F\", \"#008080\"\n",
        "  ]"
      ]
    },
    {
      "cell_type": "code",
      "execution_count": 92,
      "metadata": {},
      "outputs": [],
      "source": [
        "def normalizaFuncoes(fx, f):\n",
        "    if(f == \"f1\"):\n",
        "        return (fx - 0)/(25 - 0)\n",
        "    else:\n",
        "        return (fx - 6891)/(56510-6891)"
      ]
    },
    {
      "cell_type": "code",
      "execution_count": 93,
      "metadata": {
        "id": "GQT0FMG53W69"
      },
      "outputs": [],
      "source": [
        "def fobj(x, probdata, f, e):\n",
        "\n",
        "\n",
        "  penalidade = 0.0\n",
        "\n",
        "\n",
        "\n",
        "  #  R5: Penaliza a solução se tiver mais de 25 PAs\n",
        "  if(len(x.solution) > 25):\n",
        "    # pass\n",
        "    penalidade += (len(x.solution) - 25)**2 * 100\n",
        "\n",
        "\n",
        "  # R3 e R4: Penaliza a solução se nem todos os clientes estiverem no raio de atuação de um PA\n",
        "  # e que cada cliente esteja conectado em apenas 1 PAa\n",
        "\n",
        "  clientes = []\n",
        "  for i in range(len(probdata.coord)):\n",
        "\n",
        "    cliente = Struct()\n",
        "    cliente.id = i\n",
        "    cliente.pa = None\n",
        "    cliente.dist_pa = 0.0\n",
        "    cliente.color = '#ff0000'\n",
        "    cliente.coord = probdata.coord[i]\n",
        "    clientes.append(cliente)\n",
        "\n",
        "    for j in range(len(x.solution)):\n",
        "      dist = calcDist(x.solution[j], probdata.coord[i])\n",
        "      if(dist <= 70):\n",
        "\n",
        "        if not(clientes[i].pa == None):\n",
        "          if(clientes[i].dist_pa > dist):\n",
        "            clientes[i].dist_pa = dist\n",
        "            clientes[i].pa = j\n",
        "            clientes[i].color = colors[j]\n",
        "        else:\n",
        "          clientes[i].dist_pa = dist\n",
        "          clientes[i].pa = j\n",
        "          clientes[i].color = colors[j]\n",
        "      else:\n",
        "        if(clientes[i].dist_pa == None):\n",
        "          clientes[i].dist_pa = dist\n",
        "        else:\n",
        "          if(clientes[i].dist_pa > dist):\n",
        "            clientes[i].dist_pa = dist\n",
        "\n",
        "\n",
        "\n",
        "  clientes_nao_atendidos = np.sum([cliente.pa is None for cliente in np.array(clientes)])\n",
        "  # R1: Todos os clientes tem que ser atendidos (considerando cobertura 95%)\n",
        "  toleranacia =  len(probdata.coord)*0.05 - clientes_nao_atendidos\n",
        "  if(toleranacia < 0):\n",
        "    # pass\n",
        "    # print(clientes_nao_atendidos)\n",
        "    penalidade += 100 * toleranacia**2\n",
        "\n",
        "\n",
        "  # R2: Penaliza se a quantidade de clientes conectados ultrapassar a capacidade do PA\n",
        "  pas = np.zeros(len(x.solution))\n",
        "  variancia = 0\n",
        "  capacidade = 54\n",
        "  for i in clientes:\n",
        "    pas[i.pa] += probdata.intensity[i.id]\n",
        "    filteredArray = np.where(pas <= capacidade, 0, pas)\n",
        "    penalidade +=  abs(np.sum(filteredArray**2)*100)\n",
        "    variancia += (probdata.intensity[i.id] - (np.sum(pas)/len(pas)))**2\n",
        "  variancia = (variancia/len(pas))**(1/2)\n",
        "  # fitness = len(x.solution)\n",
        "  \n",
        "  # fitnessF2 = 0.0\n",
        "  # for i in clientes:\n",
        "  #   fitnessF2 += i.dist_pa\n",
        "  \n",
        "  # if fitnessF2 > e:\n",
        "  #  penalidade = (fitnessF2 - e)**2 * 100\n",
        "\n",
        "  fitness = 0\n",
        "  \n",
        "  for i in clientes:\n",
        "    fitness += i.dist_pa\n",
        "  \n",
        "  if len(x.solution) >= e:\n",
        "   penalidade += (len(x.solution) - e)**2 * 100\n",
        "\n",
        "  x.capacidade = pas\n",
        "  x.variancia = variancia\n",
        "  x.consumo_medio_rede = (np.sum(pas)/len(pas))\n",
        "  x.fitness = fitness + penalidade\n",
        "  x.clientes = clientes\n",
        "  x.f1 = len(x.solution)\n",
        "  x.f2 = fitness\n",
        "  return x\n",
        "\n",
        "\n",
        "\n",
        "\n",
        "\n",
        "\n"
      ]
    },
    {
      "cell_type": "markdown",
      "metadata": {
        "id": "hCF59DhxCGFG"
      },
      "source": [
        "Implementação do Best Improvement"
      ]
    },
    {
      "cell_type": "code",
      "execution_count": 94,
      "metadata": {
        "id": "aVO3qmbqCFw3"
      },
      "outputs": [],
      "source": [
        "def bestImprovement(x, kmax, probdata, f, w):\n",
        "\n",
        "  y = copy.deepcopy(x)\n",
        "  melhorSolucao = fobj(y, probdata, f,w)\n",
        "  for k in range(kmax):\n",
        "    y = shake(y,k+1)\n",
        "    resultado = fobj(y, probdata, f, w)\n",
        "    if(resultado.fitness <= melhorSolucao.fitness):\n",
        "      melhorSolucao = resultado\n",
        "  return melhorSolucao\n"
      ]
    },
    {
      "cell_type": "markdown",
      "metadata": {},
      "source": [
        "Função para evitar acrescentar soluções dominadas no conjunto de soluções"
      ]
    },
    {
      "cell_type": "code",
      "execution_count": 95,
      "metadata": {},
      "outputs": [],
      "source": [
        "def nondominatedsolution(solutionsList, currentSolution):\n",
        "    if(len(solutionsList) == 0):\n",
        "        return True\n",
        "    for solution in solutionsList:\n",
        "        if(currentSolution[0] >= solution.f1 and currentSolution[1] > solution.f2):\n",
        "            return False\n",
        "    return True"
      ]
    },
    {
      "cell_type": "markdown",
      "metadata": {},
      "source": [
        "Função para limpar possíveis soluções dominadas do conjunto de soluções"
      ]
    },
    {
      "cell_type": "code",
      "execution_count": 96,
      "metadata": {},
      "outputs": [],
      "source": [
        "def removeDominatedSolutions (solutionsList):\n",
        "    for solution in solutionsList:\n",
        "        for solution2 in solutionsList:\n",
        "            if(solution2.f1 >= solution.f1 and solution2.f2 > solution.f2):\n",
        "                solutionsList.remove(solution2)\n",
        "    return solutionsList\n",
        "\n"
      ]
    },
    {
      "cell_type": "markdown",
      "metadata": {},
      "source": [
        "### Implementação do método BVNS"
      ]
    },
    {
      "cell_type": "code",
      "execution_count": 97,
      "metadata": {},
      "outputs": [],
      "source": [
        "fronteira_final = []"
      ]
    },
    {
      "cell_type": "code",
      "execution_count": 98,
      "metadata": {
        "id": "lJ5B5fOtGiWv"
      },
      "outputs": [
        {
          "data": {
            "image/png": "[encoded data removed]",
            "text/plain": [
              "<Figure size 640x480 with 1 Axes>"
            ]
          },
          "metadata": {},
          "output_type": "display_data"
        }
      ],
      "source": [
        "'''\n",
        "Implementa uma metaheurística BVNS\n",
        "'''\n",
        "\n",
        "def bvns(f, max_num_sol_avaliadas):\n",
        "\n",
        "  global fronteira_final\n",
        "  # Número de estruturas de vizinhanças definidas\n",
        "  kmax = 4\n",
        "\n",
        "  # Faz a leitura dos dados da instância do problema\n",
        "  probdata = probdef()\n",
        "\n",
        "  # Gera solução inicial\n",
        "  initial_solution = generate_initial_solution(f)\n",
        "\n",
        " \n",
        "  # Contador do número de soluções candidatas avaliadas\n",
        "  min_episolon = 9\n",
        "  max_episolon = 25\n",
        "\n",
        "\n",
        "  # Ciclo iterativo do método\n",
        "  for color in [\"b.\", \"g.\", \"r.\", \"y.\", \"k.\"]:\n",
        "    solucoes = []\n",
        "    num_iteracoes = 0\n",
        "    max_iteracoes = 50\n",
        "    while len(solucoes) < 20 and num_iteracoes < max_iteracoes:\n",
        "      if(num_iteracoes > max_iteracoes):\n",
        "        break\n",
        "      num_iteracoes += 1\n",
        "      print (\"Num Solucoes: {} Num Iteracoes {}\".format(len(solucoes), num_iteracoes))\n",
        "\n",
        "      num_sol_avaliadas = 1\n",
        "      episolon = random.randint(min_episolon, max_episolon)\n",
        "      x = fobj(initial_solution,probdata, f, episolon)\n",
        "      fit = None\n",
        "      globalX = None\n",
        "\n",
        "      while num_sol_avaliadas < max_num_sol_avaliadas:\n",
        "\n",
        "        k = 1\n",
        "        while k <= kmax:\n",
        "\n",
        "          # Gera uma solução candidata na k-ésima vizinhança de x\n",
        "          y = shake(x,k)\n",
        "          y = fobj(y,probdata, f, episolon)\n",
        "\n",
        "          y = bestImprovement(y, kmax, probdata, f, episolon)\n",
        "          num_sol_avaliadas += 1\n",
        "\n",
        "          # Atualiza solução corrente e estrutura de vizinhança (se necessário)\n",
        "          x,k = neighborhoodChange(x,y,k)\n",
        "          if fit == None or fit >= x.fitness:\n",
        "            fit = x.fitness\n",
        "            globalX = x\n",
        "          if num_sol_avaliadas > max_num_sol_avaliadas:\n",
        "            break\n",
        "\n",
        "      isNonDominatedSolution = nondominatedsolution(solucoes, [globalX.f1, globalX.f2])\n",
        "      if(isNonDominatedSolution == True):\n",
        "        solucoes.append(globalX)\n",
        "        solucoes = removeDominatedSolutions(solucoes)\n",
        "\n",
        "    for i in solucoes:\n",
        "      print(\"f1 {} f2 {}\".format(i.f1, i.f2))\n",
        "      plt.plot(i.f1,i.f2,color)\n",
        "      \n",
        "    fronteira_final = fronteira_final + solucoes #popula o array final\n",
        "\n",
        "plt.title('Soluções estimadas')\n",
        "plt.xlabel('f1(x)')\n",
        "plt.ylabel('f2(x)')\n",
        "plt.show()\n",
        "\n"
      ]
    },
    {
      "cell_type": "code",
      "execution_count": 99,
      "metadata": {
        "colab": {
          "base_uri": "https://localhost:8080/",
          "height": 1000
        },
        "id": "y9ILhzy4m-0F",
        "outputId": "ee557517-2dfc-42b7-8c7b-942e5573fa79"
      },
      "outputs": [
        {
          "name": "stdout",
          "output_type": "stream",
          "text": [
            "Num Solucoes: 0 Num Iteracoes 1\n"
          ]
        },
        {
          "name": "stdout",
          "output_type": "stream",
          "text": [
            "Num Solucoes: 1 Num Iteracoes 2\n",
            "Num Solucoes: 1 Num Iteracoes 3\n",
            "Num Solucoes: 2 Num Iteracoes 4\n",
            "Num Solucoes: 2 Num Iteracoes 5\n",
            "Num Solucoes: 3 Num Iteracoes 6\n",
            "Num Solucoes: 4 Num Iteracoes 7\n",
            "Num Solucoes: 4 Num Iteracoes 8\n",
            "Num Solucoes: 5 Num Iteracoes 9\n",
            "Num Solucoes: 5 Num Iteracoes 10\n",
            "Num Solucoes: 5 Num Iteracoes 11\n",
            "Num Solucoes: 5 Num Iteracoes 12\n",
            "Num Solucoes: 5 Num Iteracoes 13\n",
            "Num Solucoes: 5 Num Iteracoes 14\n",
            "Num Solucoes: 5 Num Iteracoes 15\n",
            "Num Solucoes: 5 Num Iteracoes 16\n",
            "Num Solucoes: 5 Num Iteracoes 17\n",
            "Num Solucoes: 5 Num Iteracoes 18\n",
            "Num Solucoes: 5 Num Iteracoes 19\n",
            "Num Solucoes: 5 Num Iteracoes 20\n",
            "Num Solucoes: 5 Num Iteracoes 21\n",
            "Num Solucoes: 5 Num Iteracoes 22\n",
            "Num Solucoes: 5 Num Iteracoes 23\n",
            "Num Solucoes: 6 Num Iteracoes 24\n",
            "Num Solucoes: 6 Num Iteracoes 25\n",
            "Num Solucoes: 7 Num Iteracoes 26\n",
            "Num Solucoes: 7 Num Iteracoes 27\n",
            "Num Solucoes: 8 Num Iteracoes 28\n",
            "Num Solucoes: 8 Num Iteracoes 29\n",
            "Num Solucoes: 8 Num Iteracoes 30\n",
            "Num Solucoes: 8 Num Iteracoes 31\n",
            "Num Solucoes: 8 Num Iteracoes 32\n",
            "Num Solucoes: 9 Num Iteracoes 33\n",
            "Num Solucoes: 9 Num Iteracoes 34\n",
            "Num Solucoes: 9 Num Iteracoes 35\n",
            "Num Solucoes: 9 Num Iteracoes 36\n",
            "Num Solucoes: 9 Num Iteracoes 37\n",
            "Num Solucoes: 10 Num Iteracoes 38\n",
            "Num Solucoes: 10 Num Iteracoes 39\n",
            "Num Solucoes: 10 Num Iteracoes 40\n",
            "Num Solucoes: 10 Num Iteracoes 41\n",
            "Num Solucoes: 10 Num Iteracoes 42\n",
            "Num Solucoes: 10 Num Iteracoes 43\n",
            "Num Solucoes: 10 Num Iteracoes 44\n",
            "Num Solucoes: 10 Num Iteracoes 45\n",
            "Num Solucoes: 10 Num Iteracoes 46\n",
            "Num Solucoes: 11 Num Iteracoes 47\n",
            "Num Solucoes: 11 Num Iteracoes 48\n",
            "Num Solucoes: 11 Num Iteracoes 49\n",
            "Num Solucoes: 11 Num Iteracoes 50\n",
            "f1 21 f2 7320.584131668452\n",
            "f1 18 f2 7979.161623494444\n",
            "f1 13 f2 9388.748587554897\n",
            "f1 24 f2 6958.214683986806\n",
            "f1 23 f2 7179.911034699953\n",
            "f1 16 f2 8639.663331333502\n",
            "f1 25 f2 6871.783740437771\n",
            "f1 14 f2 8817.520952850076\n",
            "f1 19 f2 7953.141720489705\n",
            "f1 20 f2 7565.755265281471\n",
            "f1 17 f2 8437.927300371286\n",
            "Num Solucoes: 0 Num Iteracoes 1\n",
            "Num Solucoes: 1 Num Iteracoes 2\n",
            "Num Solucoes: 2 Num Iteracoes 3\n",
            "Num Solucoes: 3 Num Iteracoes 4\n",
            "Num Solucoes: 4 Num Iteracoes 5\n",
            "Num Solucoes: 4 Num Iteracoes 6\n",
            "Num Solucoes: 5 Num Iteracoes 7\n",
            "Num Solucoes: 5 Num Iteracoes 8\n",
            "Num Solucoes: 5 Num Iteracoes 9\n",
            "Num Solucoes: 5 Num Iteracoes 10\n",
            "Num Solucoes: 6 Num Iteracoes 11\n",
            "Num Solucoes: 6 Num Iteracoes 12\n",
            "Num Solucoes: 6 Num Iteracoes 13\n",
            "Num Solucoes: 6 Num Iteracoes 14\n",
            "Num Solucoes: 7 Num Iteracoes 15\n",
            "Num Solucoes: 8 Num Iteracoes 16\n",
            "Num Solucoes: 9 Num Iteracoes 17\n",
            "Num Solucoes: 10 Num Iteracoes 18\n",
            "Num Solucoes: 10 Num Iteracoes 19\n",
            "Num Solucoes: 10 Num Iteracoes 20\n",
            "Num Solucoes: 10 Num Iteracoes 21\n",
            "Num Solucoes: 10 Num Iteracoes 22\n",
            "Num Solucoes: 11 Num Iteracoes 23\n",
            "Num Solucoes: 11 Num Iteracoes 24\n",
            "Num Solucoes: 11 Num Iteracoes 25\n",
            "Num Solucoes: 11 Num Iteracoes 26\n",
            "Num Solucoes: 11 Num Iteracoes 27\n",
            "Num Solucoes: 11 Num Iteracoes 28\n",
            "Num Solucoes: 11 Num Iteracoes 29\n",
            "Num Solucoes: 11 Num Iteracoes 30\n",
            "Num Solucoes: 11 Num Iteracoes 31\n",
            "Num Solucoes: 11 Num Iteracoes 32\n",
            "Num Solucoes: 11 Num Iteracoes 33\n",
            "Num Solucoes: 11 Num Iteracoes 34\n",
            "Num Solucoes: 11 Num Iteracoes 35\n",
            "Num Solucoes: 11 Num Iteracoes 36\n",
            "Num Solucoes: 11 Num Iteracoes 37\n",
            "Num Solucoes: 11 Num Iteracoes 38\n",
            "Num Solucoes: 11 Num Iteracoes 39\n",
            "Num Solucoes: 11 Num Iteracoes 40\n",
            "Num Solucoes: 11 Num Iteracoes 41\n",
            "Num Solucoes: 11 Num Iteracoes 42\n",
            "Num Solucoes: 11 Num Iteracoes 43\n",
            "Num Solucoes: 12 Num Iteracoes 44\n",
            "Num Solucoes: 12 Num Iteracoes 45\n",
            "Num Solucoes: 12 Num Iteracoes 46\n",
            "Num Solucoes: 12 Num Iteracoes 47\n",
            "Num Solucoes: 12 Num Iteracoes 48\n",
            "Num Solucoes: 12 Num Iteracoes 49\n",
            "Num Solucoes: 12 Num Iteracoes 50\n",
            "f1 22 f2 7351.616655583506\n",
            "f1 18 f2 8115.752054365089\n",
            "f1 15 f2 8937.063465763442\n",
            "f1 14 f2 9135.900288596775\n",
            "f1 19 f2 7992.9449541090835\n",
            "f1 23 f2 7171.945333012305\n",
            "f1 21 f2 7501.604905218819\n",
            "f1 13 f2 9445.91126257826\n",
            "f1 25 f2 6728.393440060214\n",
            "f1 16 f2 8637.992923668353\n",
            "f1 20 f2 7954.644467925729\n",
            "f1 17 f2 8130.63227597035\n",
            "Num Solucoes: 0 Num Iteracoes 1\n",
            "Num Solucoes: 1 Num Iteracoes 2\n",
            "Num Solucoes: 2 Num Iteracoes 3\n",
            "Num Solucoes: 3 Num Iteracoes 4\n",
            "Num Solucoes: 3 Num Iteracoes 5\n",
            "Num Solucoes: 4 Num Iteracoes 6\n",
            "Num Solucoes: 5 Num Iteracoes 7\n",
            "Num Solucoes: 5 Num Iteracoes 8\n",
            "Num Solucoes: 6 Num Iteracoes 9\n",
            "Num Solucoes: 6 Num Iteracoes 10\n",
            "Num Solucoes: 6 Num Iteracoes 11\n",
            "Num Solucoes: 7 Num Iteracoes 12\n",
            "Num Solucoes: 6 Num Iteracoes 13\n",
            "Num Solucoes: 7 Num Iteracoes 14\n",
            "Num Solucoes: 7 Num Iteracoes 15\n",
            "Num Solucoes: 8 Num Iteracoes 16\n",
            "Num Solucoes: 8 Num Iteracoes 17\n",
            "Num Solucoes: 8 Num Iteracoes 18\n",
            "Num Solucoes: 8 Num Iteracoes 19\n",
            "Num Solucoes: 8 Num Iteracoes 20\n",
            "Num Solucoes: 8 Num Iteracoes 21\n",
            "Num Solucoes: 8 Num Iteracoes 22\n",
            "Num Solucoes: 8 Num Iteracoes 23\n",
            "Num Solucoes: 8 Num Iteracoes 24\n",
            "Num Solucoes: 8 Num Iteracoes 25\n",
            "Num Solucoes: 7 Num Iteracoes 26\n",
            "Num Solucoes: 7 Num Iteracoes 27\n",
            "Num Solucoes: 7 Num Iteracoes 28\n",
            "Num Solucoes: 7 Num Iteracoes 29\n",
            "Num Solucoes: 7 Num Iteracoes 30\n",
            "Num Solucoes: 7 Num Iteracoes 31\n",
            "Num Solucoes: 7 Num Iteracoes 32\n",
            "Num Solucoes: 8 Num Iteracoes 33\n",
            "Num Solucoes: 9 Num Iteracoes 34\n",
            "Num Solucoes: 9 Num Iteracoes 35\n",
            "Num Solucoes: 9 Num Iteracoes 36\n",
            "Num Solucoes: 9 Num Iteracoes 37\n",
            "Num Solucoes: 9 Num Iteracoes 38\n",
            "Num Solucoes: 9 Num Iteracoes 39\n",
            "Num Solucoes: 10 Num Iteracoes 40\n",
            "Num Solucoes: 10 Num Iteracoes 41\n",
            "Num Solucoes: 10 Num Iteracoes 42\n",
            "Num Solucoes: 10 Num Iteracoes 43\n",
            "Num Solucoes: 10 Num Iteracoes 44\n",
            "Num Solucoes: 10 Num Iteracoes 45\n",
            "Num Solucoes: 10 Num Iteracoes 46\n",
            "Num Solucoes: 10 Num Iteracoes 47\n",
            "Num Solucoes: 10 Num Iteracoes 48\n",
            "Num Solucoes: 10 Num Iteracoes 49\n",
            "Num Solucoes: 10 Num Iteracoes 50\n",
            "f1 25 f2 6812.401950845267\n",
            "f1 13 f2 9673.99504145129\n",
            "f1 15 f2 8746.047150255841\n",
            "f1 16 f2 8260.210744651753\n",
            "f1 20 f2 7523.0169719729065\n",
            "f1 23 f2 6987.4977701254975\n",
            "f1 14 f2 9227.38324312378\n",
            "f1 24 f2 6920.968969685068\n",
            "f1 22 f2 7211.04238038994\n",
            "f1 19 f2 7640.379622272388\n",
            "Num Solucoes: 0 Num Iteracoes 1\n",
            "Num Solucoes: 1 Num Iteracoes 2\n",
            "Num Solucoes: 2 Num Iteracoes 3\n",
            "Num Solucoes: 3 Num Iteracoes 4\n",
            "Num Solucoes: 4 Num Iteracoes 5\n",
            "Num Solucoes: 5 Num Iteracoes 6\n",
            "Num Solucoes: 6 Num Iteracoes 7\n",
            "Num Solucoes: 6 Num Iteracoes 8\n",
            "Num Solucoes: 6 Num Iteracoes 9\n",
            "Num Solucoes: 6 Num Iteracoes 10\n",
            "Num Solucoes: 6 Num Iteracoes 11\n",
            "Num Solucoes: 7 Num Iteracoes 12\n",
            "Num Solucoes: 7 Num Iteracoes 13\n",
            "Num Solucoes: 7 Num Iteracoes 14\n",
            "Num Solucoes: 7 Num Iteracoes 15\n",
            "Num Solucoes: 7 Num Iteracoes 16\n",
            "Num Solucoes: 8 Num Iteracoes 17\n",
            "Num Solucoes: 8 Num Iteracoes 18\n",
            "Num Solucoes: 8 Num Iteracoes 19\n",
            "Num Solucoes: 8 Num Iteracoes 20\n",
            "Num Solucoes: 8 Num Iteracoes 21\n",
            "Num Solucoes: 8 Num Iteracoes 22\n",
            "Num Solucoes: 8 Num Iteracoes 23\n",
            "Num Solucoes: 8 Num Iteracoes 24\n",
            "Num Solucoes: 8 Num Iteracoes 25\n",
            "Num Solucoes: 8 Num Iteracoes 26\n",
            "Num Solucoes: 8 Num Iteracoes 27\n",
            "Num Solucoes: 8 Num Iteracoes 28\n",
            "Num Solucoes: 8 Num Iteracoes 29\n",
            "Num Solucoes: 9 Num Iteracoes 30\n",
            "Num Solucoes: 8 Num Iteracoes 31\n",
            "Num Solucoes: 8 Num Iteracoes 32\n",
            "Num Solucoes: 9 Num Iteracoes 33\n",
            "Num Solucoes: 9 Num Iteracoes 34\n",
            "Num Solucoes: 9 Num Iteracoes 35\n",
            "Num Solucoes: 9 Num Iteracoes 36\n",
            "Num Solucoes: 9 Num Iteracoes 37\n",
            "Num Solucoes: 10 Num Iteracoes 38\n",
            "Num Solucoes: 10 Num Iteracoes 39\n",
            "Num Solucoes: 9 Num Iteracoes 40\n",
            "Num Solucoes: 9 Num Iteracoes 41\n",
            "Num Solucoes: 9 Num Iteracoes 42\n",
            "Num Solucoes: 9 Num Iteracoes 43\n",
            "Num Solucoes: 9 Num Iteracoes 44\n",
            "Num Solucoes: 10 Num Iteracoes 45\n",
            "Num Solucoes: 10 Num Iteracoes 46\n",
            "Num Solucoes: 10 Num Iteracoes 47\n",
            "Num Solucoes: 10 Num Iteracoes 48\n",
            "Num Solucoes: 10 Num Iteracoes 49\n",
            "Num Solucoes: 10 Num Iteracoes 50\n",
            "f1 13 f2 9410.766284834346\n",
            "f1 14 f2 9002.148554046149\n",
            "f1 17 f2 8293.269548739547\n",
            "f1 19 f2 7747.887211175684\n",
            "f1 25 f2 6816.505938849982\n",
            "f1 21 f2 7489.224035937817\n",
            "f1 22 f2 6962.873443784827\n",
            "f1 16 f2 8667.377165702892\n",
            "f1 24 f2 6960.805189309695\n",
            "f1 15 f2 8979.69298323396\n",
            "Num Solucoes: 0 Num Iteracoes 1\n",
            "Num Solucoes: 1 Num Iteracoes 2\n",
            "Num Solucoes: 2 Num Iteracoes 3\n",
            "Num Solucoes: 3 Num Iteracoes 4\n",
            "Num Solucoes: 3 Num Iteracoes 5\n",
            "Num Solucoes: 3 Num Iteracoes 6\n",
            "Num Solucoes: 4 Num Iteracoes 7\n",
            "Num Solucoes: 4 Num Iteracoes 8\n",
            "Num Solucoes: 4 Num Iteracoes 9\n",
            "Num Solucoes: 5 Num Iteracoes 10\n",
            "Num Solucoes: 5 Num Iteracoes 11\n",
            "Num Solucoes: 5 Num Iteracoes 12\n",
            "Num Solucoes: 6 Num Iteracoes 13\n",
            "Num Solucoes: 7 Num Iteracoes 14\n",
            "Num Solucoes: 8 Num Iteracoes 15\n",
            "Num Solucoes: 8 Num Iteracoes 16\n",
            "Num Solucoes: 7 Num Iteracoes 17\n",
            "Num Solucoes: 7 Num Iteracoes 18\n",
            "Num Solucoes: 7 Num Iteracoes 19\n",
            "Num Solucoes: 7 Num Iteracoes 20\n",
            "Num Solucoes: 7 Num Iteracoes 21\n",
            "Num Solucoes: 7 Num Iteracoes 22\n",
            "Num Solucoes: 6 Num Iteracoes 23\n",
            "Num Solucoes: 6 Num Iteracoes 24\n",
            "Num Solucoes: 6 Num Iteracoes 25\n",
            "Num Solucoes: 6 Num Iteracoes 26\n",
            "Num Solucoes: 6 Num Iteracoes 27\n",
            "Num Solucoes: 6 Num Iteracoes 28\n",
            "Num Solucoes: 6 Num Iteracoes 29\n",
            "Num Solucoes: 6 Num Iteracoes 30\n",
            "Num Solucoes: 7 Num Iteracoes 31\n",
            "Num Solucoes: 7 Num Iteracoes 32\n",
            "Num Solucoes: 7 Num Iteracoes 33\n",
            "Num Solucoes: 7 Num Iteracoes 34\n",
            "Num Solucoes: 7 Num Iteracoes 35\n",
            "Num Solucoes: 7 Num Iteracoes 36\n",
            "Num Solucoes: 7 Num Iteracoes 37\n",
            "Num Solucoes: 7 Num Iteracoes 38\n",
            "Num Solucoes: 7 Num Iteracoes 39\n",
            "Num Solucoes: 7 Num Iteracoes 40\n",
            "Num Solucoes: 7 Num Iteracoes 41\n",
            "Num Solucoes: 7 Num Iteracoes 42\n",
            "Num Solucoes: 7 Num Iteracoes 43\n",
            "Num Solucoes: 7 Num Iteracoes 44\n",
            "Num Solucoes: 7 Num Iteracoes 45\n",
            "Num Solucoes: 7 Num Iteracoes 46\n",
            "Num Solucoes: 7 Num Iteracoes 47\n",
            "Num Solucoes: 7 Num Iteracoes 48\n",
            "Num Solucoes: 7 Num Iteracoes 49\n",
            "Num Solucoes: 8 Num Iteracoes 50\n",
            "f1 23 f2 7168.797603457224\n",
            "f1 14 f2 9357.190397465192\n",
            "f1 15 f2 9002.3913023304\n",
            "f1 17 f2 7687.690182780126\n",
            "f1 16 f2 8825.823654148957\n",
            "f1 22 f2 7236.521946951981\n",
            "f1 13 f2 9689.284932040906\n",
            "f1 19 f2 7568.140328400888\n"
          ]
        },
        {
          "data": {
            "image/png": "[encoded data removed]",
            "text/plain": [
              "<Figure size 640x480 with 1 Axes>"
            ]
          },
          "metadata": {},
          "output_type": "display_data"
        }
      ],
      "source": [
        "bvns(\"f1\", 300) "
      ]
    },
    {
      "cell_type": "markdown",
      "metadata": {
        "id": "uDXLcWhQbkv6"
      },
      "source": []
    },
    {
      "cell_type": "markdown",
      "metadata": {},
      "source": [
        "Fronteira Pareto Ótima"
      ]
    },
    {
      "cell_type": "code",
      "execution_count": 131,
      "metadata": {},
      "outputs": [
        {
          "name": "stdout",
          "output_type": "stream",
          "text": [
            "21; 7320.584131668452; 31.991013248707045; 19.959341108209884\n",
            "13; 9388.748587554897; 54.800875934512554; 23.669973961896297\n",
            "14; 8817.520952850076; 49.33603140213979; 24.253736671498338\n",
            "25; 6728.393440060214; 20.747830585484913; 16.996609853355686\n",
            "15; 8746.047150255841; 46.47855993430108; 24.069177116193814\n",
            "16; 8260.210744651753; 45.19152536143767; 22.499629270076355\n",
            "20; 7523.0169719729065; 33.48005796188546; 19.695740683862493\n",
            "24; 6920.968969685068; 30.147006912551948; 19.565533636385865\n",
            "22; 6962.873443784827; 30.55566154721886; 17.703739074171025\n",
            "17; 7687.690182780126; 34.971078534814076; 21.42004927967611\n",
            "19; 7568.140328400888; 28.98953513856026; 19.45179533488468\n"
          ]
        },
        {
          "data": {
            "image/png": "[encoded data removed]",
            "text/plain": [
              "<Figure size 1000x800 with 1 Axes>"
            ]
          },
          "metadata": {},
          "output_type": "display_data"
        }
      ],
      "source": [
        "# Código para printar somente a fronteira com soluções não dominadas\n",
        "fronteira_final = removeDominatedSolutions(fronteira_final)\n",
        "\n",
        "plt.figure(figsize=(10,8))\n",
        "for i in fronteira_final:\n",
        "      print(\"{}; {}; {}; {}\".format(i.f1, i.f2, i.variancia, i.consumo_medio_rede))\n",
        "      plt.plot(i.f1,i.f2, \"b.\")\n",
        "\n",
        "plt.title('Fronteira estimada')\n",
        "plt.xlabel('f1(x)')\n",
        "plt.ylabel('f2(x)')\n",
        "plt.show()\n"
      ]
    },
    {
      "cell_type": "markdown",
      "metadata": {},
      "source": [
        "# Métodos de auxílio à tomada de decisão\n",
        "\n",
        "Critérios escolhidos:\n",
        "\n",
        "    - Quantidade de PAs (menor melhor)\n",
        "        - Peso: 0.3\n",
        "    - Distância entre cliente e PA (menor melhor)\n",
        "        - Peso: 0.2\n",
        "    - Variância no uso de banda dos PAs (menor melhor)\n",
        "        - Peso: 0.2\n",
        "    - Médiia do uso de banda dos PAs (menor melhor)\n",
        "        - Peso: 0.3\n"
      ]
    },
    {
      "cell_type": "code",
      "execution_count": 142,
      "metadata": {},
      "outputs": [],
      "source": [
        "matriz_decisao = []\n",
        "pesos = np.array([0.1,0.4,0.3,0.2])\n",
        "\n",
        "for i in fronteira_final:\n",
        "    matriz_decisao.append([i.f1, i.f2, i.variancia, i.consumo_medio_rede])\n",
        "\n",
        "\n",
        "matriz_decisao = np.array(matriz_decisao)"
      ]
    },
    {
      "cell_type": "markdown",
      "metadata": {},
      "source": [
        "Implementação do Método ELECTREE I"
      ]
    },
    {
      "cell_type": "code",
      "execution_count": 102,
      "metadata": {},
      "outputs": [],
      "source": [
        "def calculateValue (value, min, max, minNormalizedValue, maxNormalizedValue):\n",
        "\n",
        "\n",
        "    result = ((float(value) - float(min)) * (float(maxNormalizedValue)-float(minNormalizedValue)))/(float(max)-float(min))\n",
        "    return result#float(f'{result:.2f}')\n"
      ]
    },
    {
      "cell_type": "code",
      "execution_count": 132,
      "metadata": {},
      "outputs": [],
      "source": [
        "def normalizeMatrix(matrix, maxNormalizedValue, nonBeneficialCriteria):\n",
        "    minNormalizedValue = 0.0\n",
        "    normalizedMatrix = copy.deepcopy(matrix)\n",
        "\n",
        "    for linha in range(matrix.shape[0]):\n",
        "        min_value = 0\n",
        "        max_value = 0\n",
        "        for coluna in range(matrix.shape[1]):\n",
        "            min_value = matrix.min(0)[coluna]\n",
        "            max_value = matrix.max(0)[coluna]\n",
        "            if(nonBeneficialCriteria.__contains__(coluna)):\n",
        "                #nesse caso, menor é melhor, então max_value e min_value estão invertidos\n",
        "                normalizedMatrix[linha][coluna] = calculateValue(matrix[linha][coluna], max_value, min_value, minNormalizedValue, maxNormalizedValue)\n",
        "            else:\n",
        "                normalizedMatrix[linha][coluna] = calculateValue(matrix[linha][coluna], min_value, max_value, minNormalizedValue, maxNormalizedValue)\n",
        "    return normalizedMatrix"
      ]
    },
    {
      "cell_type": "code",
      "execution_count": 133,
      "metadata": {},
      "outputs": [],
      "source": [
        "def matrixP(normalizedMatrix, weights):\n",
        "\n",
        "    matrixPPlus = []\n",
        "    matrixPEqual = []\n",
        "    matrixPMinus = []\n",
        "    concordance = []\n",
        "\n",
        "    for linha in range(normalizedMatrix.shape[0]):\n",
        "        arrayPPlus = []\n",
        "        arrayPEqual = []\n",
        "        arrayPMinus = []\n",
        "        for linha2 in range(normalizedMatrix.shape[0]):\n",
        "            sumPplus = 0\n",
        "            sumPequal = 0\n",
        "            sumPminus = 0\n",
        "            for coluna in range(normalizedMatrix.shape[1]):\n",
        "                if(linha != linha2):\n",
        "                    if(normalizedMatrix[linha][coluna] > normalizedMatrix[linha2][coluna]):\n",
        "                        sumPplus += weights[coluna]\n",
        "                    elif(normalizedMatrix[linha][coluna] == normalizedMatrix[linha2][coluna]):\n",
        "                        sumPequal += weights[coluna]\n",
        "                    else:\n",
        "                        sumPminus += weights[coluna]\n",
        "            arrayPPlus.append(sumPplus)\n",
        "            arrayPEqual.append(sumPequal)\n",
        "            arrayPMinus.append(sumPminus)\n",
        "        matrixPPlus.append(arrayPPlus)\n",
        "        matrixPEqual.append(arrayPEqual)\n",
        "        matrixPMinus.append(arrayPMinus)\n",
        "\n",
        "    # print(matrixPPlus)\n",
        "    # print(matrixPEqual)\n",
        "    print(matrixPMinus)\n"
      ]
    },
    {
      "cell_type": "code",
      "execution_count": 105,
      "metadata": {},
      "outputs": [],
      "source": [
        "def concordanceMatrix(normalizedMatrix, weights):\n",
        "\n",
        "    concordance = []\n",
        "\n",
        "    for linha in range(normalizedMatrix.shape[0]):\n",
        "        arrayConcordance = []\n",
        "        for linha2 in range(normalizedMatrix.shape[0]):\n",
        "            sumConcordance = 0\n",
        "            for coluna in range(normalizedMatrix.shape[1]):\n",
        "                if(linha != linha2):\n",
        "                    if(normalizedMatrix[linha][coluna] >= normalizedMatrix[linha2][coluna]):\n",
        "                        sumConcordance += weights[coluna]\n",
        "            arrayConcordance.append(sumConcordance)\n",
        "        concordance.append(arrayConcordance)\n",
        "\n",
        "    return np.array(concordance)\n"
      ]
    },
    {
      "cell_type": "code",
      "execution_count": 106,
      "metadata": {},
      "outputs": [],
      "source": [
        "def discordanceMatrix(matrix):\n",
        "    delta = 1/20\n",
        "\n",
        "    disconcordance = []\n",
        "\n",
        "    for linha in range(matrix.shape[0]):\n",
        "        arrayDisoncordance = []\n",
        "        for linha2 in range(matrix.shape[0]):\n",
        "            maxDiscordance = 0\n",
        "            for coluna in range(matrix.shape[1]):\n",
        "                if(linha != linha2):\n",
        "\n",
        "                    valorAtual = matrix[linha][coluna]\n",
        "                    valorComparar = matrix[linha2][coluna]\n",
        "\n",
        "                    if(valorAtual < valorComparar  and valorComparar - valorAtual > maxDiscordance):\n",
        "                        maxDiscordance = valorComparar - valorAtual\n",
        "            arrayDisoncordance.append(maxDiscordance*delta)\n",
        "        disconcordance.append(arrayDisoncordance)\n",
        "\n",
        "    return np.array(disconcordance)\n",
        "\n"
      ]
    },
    {
      "cell_type": "code",
      "execution_count": 107,
      "metadata": {},
      "outputs": [],
      "source": [
        "def classificacao(concordance_matrix, discordance_matrix, thresholds):\n",
        "    limiar_concordancia, limiar_discordancia = thresholds\n",
        "\n",
        "    num_alternatives, num_pares = concordance_matrix.shape\n",
        "\n",
        "    # Inicializa a lista de classificações\n",
        "    classificacoes = []\n",
        "\n",
        "    for i in range(num_alternatives):\n",
        "\n",
        "        for j in range(num_pares):\n",
        "            # Verifica os limiares de concordância e discordância para cada par\n",
        "\n",
        "            # Conta as concordâncias e discordâncias\n",
        "            if concordance_matrix[i][j] >= limiar_concordancia and discordance_matrix[i][j] <= limiar_discordancia:\n",
        "                classificacoes.append([i+1,j+1])\n",
        "\n",
        "    return np.array(classificacoes)"
      ]
    },
    {
      "cell_type": "code",
      "execution_count": 108,
      "metadata": {},
      "outputs": [],
      "source": [
        "\n",
        "def electre_ordem_preferencia(matriz_classificacao, ordem):\n",
        "\n",
        "    sobreclassificadores = []\n",
        "    sobreclassificados = []\n",
        "\n",
        "    for item in matriz_classificacao:\n",
        "        if(not sobreclassificadores.__contains__(item[0])):\n",
        "            sobreclassificadores.append(item[0])\n",
        "        if(not sobreclassificados.__contains__(item[1])):\n",
        "            sobreclassificados.append(item[1])\n",
        "\n",
        "    result = np.setdiff1d(np.array(sobreclassificadores), np.array(sobreclassificados))\n",
        "    ordem.append(result)\n",
        "    return result,ordem\n"
      ]
    },
    {
      "cell_type": "code",
      "execution_count": 109,
      "metadata": {},
      "outputs": [],
      "source": [
        "\n",
        "def recursivo (matriz_classificacao):\n",
        "    ordem = []\n",
        "    matriz = copy.deepcopy(matriz_classificacao)\n",
        "    while len(matriz) > 0:\n",
        "        if(len(matriz) == 0):\n",
        "            break\n",
        "\n",
        "        result,ordem = electre_ordem_preferencia(matriz,ordem)\n",
        "        indices_linhas_a_remover = np.where((matriz[:, 0]) == result[0])\n",
        "\n",
        "        matriz = np.delete(matriz, indices_linhas_a_remover, axis=0)\n",
        "\n",
        "\n",
        "\n",
        "    return ordem"
      ]
    },
    {
      "cell_type": "code",
      "execution_count": 143,
      "metadata": {},
      "outputs": [
        {
          "name": "stdout",
          "output_type": "stream",
          "text": [
            "Classificação das alternativas: [array([ 4, 11]), array([ 8,  9, 11]), array([ 9, 11]), array([ 7, 11]), array([11]), array([10]), array([6]), array([5])]\n",
            "Melhor(es) Alternativa(s) [ 4 11]\n"
          ]
        }
      ],
      "source": [
        "\n",
        "\n",
        "def electre1(matrix, weights, thresholds):\n",
        "  normalized_matrix = normalizeMatrix(matrix, 20, [0,1,2,3])\n",
        "  concordance = concordanceMatrix(normalized_matrix, weights)\n",
        "  discordance = discordanceMatrix(normalized_matrix)\n",
        "  matriz_classificacao = classificacao(concordance, discordance, thresholds)\n",
        "  resultado = recursivo(matriz_classificacao)\n",
        "\n",
        "  return resultado,matriz_classificacao, concordance, discordance, normalized_matrix\n",
        "\n",
        "\n",
        "concordance_discordance_thresholds = [0.75, 0.25]\n",
        "result,matriz_classificacao, concordance, discordance, normalized_matrix = electre1(matriz_decisao, pesos, concordance_discordance_thresholds)\n",
        "\n",
        "print(\"Classificação das alternativas:\", result)\n",
        "print(\"Melhor(es) Alternativa(s) {}\".format(result[0]))\n",
        "\n",
        " "
      ]
    },
    {
      "cell_type": "markdown",
      "metadata": {},
      "source": [
        "Matriz Normalizada"
      ]
    },
    {
      "cell_type": "code",
      "execution_count": 144,
      "metadata": {},
      "outputs": [
        {
          "name": "stdout",
          "output_type": "stream",
          "text": [
            "[[ 6.66666667 15.54803281 13.39666538 11.83497456]\n",
            " [20.         -0.         -0.          1.60879842]\n",
            " [18.33333333  4.29437126  3.20960694 -0.        ]\n",
            " [-0.         20.         20.         20.        ]\n",
            " [16.66666667  4.83169653  4.88785418  0.50862982]\n",
            " [15.          8.48411419  5.64375402  4.83416494]\n",
            " [ 8.33333333 14.02618457 12.52212115 12.56143403]\n",
            " [ 1.66666667 18.55225698 14.47968531 12.92027314]\n",
            " [ 5.         18.23722781 14.23967468 18.05121438]\n",
            " [13.33333333 12.78820541 11.64641646  7.80939196]\n",
            " [10.         13.6869565  15.15949045 13.23372584]]\n"
          ]
        }
      ],
      "source": [
        "print(normalized_matrix)"
      ]
    },
    {
      "cell_type": "markdown",
      "metadata": {},
      "source": [
        "Matriz de Concordância"
      ]
    },
    {
      "cell_type": "code",
      "execution_count": 112,
      "metadata": {},
      "outputs": [
        {
          "name": "stdout",
          "output_type": "stream",
          "text": [
            "[[0.  0.9 0.9 0.7 0.9 0.1 0.1 0.9 0.9 0.7 0.1 0.1 0.1 0.7 0.1 0.1 0.9 0.9\n",
            "  0.1 0.4]\n",
            " [0.1 0.  0.3 0.1 0.1 0.1 0.1 0.3 0.1 0.1 0.1 0.1 0.1 0.1 0.1 0.1 0.1 0.1\n",
            "  0.1 0.1]\n",
            " [0.1 0.7 0.  0.1 0.5 0.1 0.1 0.1 0.1 0.1 0.1 0.1 0.1 0.1 0.1 0.1 0.5 0.1\n",
            "  0.1 0.1]\n",
            " [0.3 0.9 0.9 0.  0.9 0.1 0.1 0.9 0.9 0.3 0.1 0.3 0.1 0.7 0.1 0.1 0.9 0.9\n",
            "  0.1 0.6]\n",
            " [0.1 0.9 0.6 0.1 0.  0.1 0.1 0.6 0.6 0.1 0.1 0.1 0.1 0.1 0.1 0.1 0.3 0.3\n",
            "  0.1 0.1]\n",
            " [0.9 0.9 0.9 0.9 0.9 0.  1.  0.9 0.9 0.9 0.7 0.9 0.9 0.9 0.9 0.9 0.9 0.9\n",
            "  0.7 0.9]\n",
            " [0.9 0.9 0.9 0.9 0.9 0.1 0.  0.9 0.9 0.9 0.7 0.9 0.9 0.9 0.9 0.6 0.9 0.9\n",
            "  0.7 0.9]\n",
            " [0.1 0.7 0.9 0.1 0.4 0.1 0.1 0.  0.1 0.1 0.1 0.1 0.1 0.1 0.1 0.1 0.5 0.1\n",
            "  0.1 0.1]\n",
            " [0.1 0.9 0.9 0.1 0.4 0.1 0.1 0.9 0.  0.1 0.1 0.1 0.1 0.1 0.1 0.1 0.4 0.1\n",
            "  0.1 0.1]\n",
            " [0.3 0.9 0.9 0.8 0.9 0.1 0.1 0.9 0.9 0.  0.1 0.1 0.1 0.7 0.1 0.1 0.9 0.9\n",
            "  0.1 0.4]\n",
            " [0.9 0.9 0.9 0.9 0.9 0.3 0.3 0.9 0.9 0.9 0.  0.6 0.9 0.9 0.5 0.7 0.9 0.9\n",
            "  0.7 0.9]\n",
            " [0.9 0.9 0.9 0.7 0.9 0.1 0.1 0.9 0.9 0.9 0.4 0.  0.7 0.7 0.7 0.4 0.9 0.9\n",
            "  0.4 0.4]\n",
            " [0.9 0.9 0.9 0.9 0.9 0.1 0.1 0.9 0.9 0.9 0.1 0.3 0.  0.9 0.1 0.1 0.9 0.9\n",
            "  0.5 0.6]\n",
            " [0.3 0.9 0.9 0.3 0.9 0.1 0.1 0.9 0.9 0.3 0.1 0.3 0.1 0.  0.1 0.1 0.9 0.9\n",
            "  0.1 0.3]\n",
            " [0.9 0.9 0.9 0.9 0.9 0.1 0.1 0.9 0.9 0.9 0.5 0.3 1.  0.9 0.  0.5 0.9 0.9\n",
            "  0.5 0.6]\n",
            " [0.9 0.9 0.9 0.9 0.9 0.1 0.4 0.9 0.9 0.9 0.4 0.6 0.9 0.9 0.5 0.  0.9 0.9\n",
            "  0.7 0.9]\n",
            " [0.1 0.9 0.5 0.1 0.7 0.1 0.1 0.6 0.6 0.1 0.1 0.1 0.1 0.1 0.1 0.1 0.  0.1\n",
            "  0.1 0.1]\n",
            " [0.1 0.9 0.9 0.1 0.7 0.1 0.1 0.9 0.9 0.1 0.1 0.1 0.1 0.1 0.1 0.1 0.9 0.\n",
            "  0.1 0.1]\n",
            " [0.9 0.9 0.9 0.9 0.9 0.3 0.3 0.9 0.9 0.9 0.3 0.6 0.6 0.9 0.6 0.3 0.9 0.9\n",
            "  0.  0.9]\n",
            " [0.6 0.9 0.9 0.4 0.9 0.1 0.1 0.9 0.9 0.6 0.1 0.6 0.4 0.8 0.4 0.1 0.9 0.9\n",
            "  0.1 0. ]]\n"
          ]
        }
      ],
      "source": [
        "print(concordance)"
      ]
    },
    {
      "cell_type": "markdown",
      "metadata": {},
      "source": [
        "Matriz de Discordância"
      ]
    },
    {
      "cell_type": "code",
      "execution_count": 113,
      "metadata": {},
      "outputs": [
        {
          "name": "stdout",
          "output_type": "stream",
          "text": [
            "[[0.         0.66666667 0.58333333 0.08333333 0.58333333 0.40342272\n",
            "  0.36347066 0.5        0.41666667 0.08333333 0.41115058 0.15021121\n",
            "  0.24409974 0.16666667 0.30713589 0.35921607 0.5        0.33333333\n",
            "  0.41525013 0.16666667]\n",
            " [0.77740164 0.         0.21471856 0.68524435 0.35097465 1.\n",
            "  0.96842207 0.24439271 0.42420571 0.70130923 0.91641192 0.92761285\n",
            "  0.81857725 0.65719382 0.91186139 0.92182198 0.33250022 0.63941027\n",
            "  0.92051147 0.75797452]\n",
            " [0.58474987 0.08333333 0.         0.66405262 0.43046318 0.98817259\n",
            "  0.94822053 0.08391236 0.23884946 0.62064324 0.99590045 0.71289429\n",
            "  0.82884961 0.71491184 0.89188576 0.94396594 0.37645747 0.42469171\n",
            "  1.         0.65386026]\n",
            " [0.09215729 0.58333333 0.5        0.         0.5        0.39065663\n",
            "  0.28416791 0.41666667 0.33333333 0.01676269 0.33184783 0.2423685\n",
            "  0.16479699 0.08333333 0.22783314 0.31247861 0.41666667 0.25\n",
            "  0.33594738 0.14863115]\n",
            " [0.68235858 0.08333333 0.1196755  0.59020128 0.         0.90495694\n",
            "  0.87337901 0.14654176 0.32916265 0.60626617 0.8075623  0.83256979\n",
            "  0.72353419 0.56215076 0.81681833 0.73941357 0.05018465 0.54436721\n",
            "  0.71395668 0.58930476]\n",
            " [0.33333333 1.         0.91666667 0.41666667 0.91666667 0.\n",
            "  0.         0.83333333 0.75       0.41666667 0.16666667 0.08333333\n",
            "  0.25       0.5        0.25       0.16666667 0.83333333 0.66666667\n",
            "  0.25       0.5       ]\n",
            " [0.33333333 1.         0.91666667 0.41666667 0.91666667 0.10904301\n",
            "  0.         0.83333333 0.75       0.41666667 0.16666667 0.08333333\n",
            "  0.25       0.5        0.25       0.16666667 0.83333333 0.66666667\n",
            "  0.25       0.5       ]\n",
            " [0.55961917 0.16666667 0.08333333 0.63892192 0.40533247 0.96304189\n",
            "  0.92308983 0.         0.21371876 0.59551254 0.97076975 0.68602802\n",
            "  0.80371891 0.68978114 0.86675506 0.91883524 0.35132677 0.39782544\n",
            "  0.9748693  0.62872955]\n",
            " [0.38764557 0.25       0.16666667 0.42520316 0.19161371 0.74932312\n",
            "  0.70937107 0.08333333 0.         0.38179377 0.75705099 0.50340714\n",
            "  0.59000015 0.47606237 0.6530363  0.70511647 0.13760801 0.30013312\n",
            "  0.76115054 0.47578682]\n",
            " [0.07609241 0.58333333 0.5        0.04340938 0.5        0.37389394\n",
            "  0.3275773  0.41666667 0.33333333 0.         0.37525721 0.22630362\n",
            "  0.20820638 0.0942686  0.27124252 0.3233227  0.41666667 0.25\n",
            "  0.37935676 0.13186847]\n",
            " [0.16666667 0.83333333 0.75       0.25       0.75       0.12823848\n",
            "  0.06581671 0.66666667 0.58333333 0.25       0.         0.02500749\n",
            "  0.08333333 0.33333333 0.08333333 0.05006046 0.66666667 0.5\n",
            "  0.08333333 0.33333333]\n",
            " [0.25       0.91666667 0.83333333 0.33333333 0.83333333 0.3497996\n",
            "  0.30984755 0.75       0.66666667 0.33333333 0.35752746 0.\n",
            "  0.19047663 0.41666667 0.25351277 0.30559295 0.75       0.58333333\n",
            "  0.36162701 0.41666667]\n",
            " [0.08333333 0.75       0.66666667 0.16666667 0.66666667 0.32525775\n",
            "  0.21621474 0.58333333 0.5        0.16666667 0.19701926 0.1090356\n",
            "  0.         0.25       0.09328414 0.24707973 0.58333333 0.41666667\n",
            "  0.17115039 0.25      ]\n",
            " [0.12020782 0.5        0.41666667 0.02805052 0.41666667 0.40886056\n",
            "  0.31122825 0.33333333 0.25       0.04411541 0.28098861 0.27041903\n",
            "  0.16138343 0.         0.25466757 0.33068254 0.33333333 0.16666667\n",
            "  0.28508816 0.16683508]\n",
            " [0.08333333 0.75       0.66666667 0.16666667 0.66666667 0.28801627\n",
            "  0.17897326 0.58333333 0.5        0.16666667 0.15977778 0.01575146\n",
            "  0.         0.25       0.         0.20983824 0.58333333 0.41666667\n",
            "  0.11112177 0.25      ]\n",
            " [0.16666667 0.83333333 0.75       0.25       0.75       0.16554337\n",
            "  0.13396544 0.66666667 0.58333333 0.25       0.06814873 0.09315622\n",
            "  0.08333333 0.33333333 0.08333333 0.         0.66666667 0.5\n",
            "  0.08333333 0.33333333]\n",
            " [0.63217393 0.16666667 0.08333333 0.54001664 0.08333333 0.85477229\n",
            "  0.82319436 0.09635712 0.278978   0.55608152 0.75737765 0.78238514\n",
            "  0.67334954 0.51196611 0.76663368 0.68922892 0.         0.49418256\n",
            "  0.66377204 0.53912012]\n",
            " [0.19889852 0.33333333 0.25       0.27820127 0.25       0.60232123\n",
            "  0.56236918 0.16666667 0.08333333 0.23479189 0.6100491  0.28820258\n",
            "  0.44299826 0.32906049 0.50603441 0.55811459 0.16666667 0.\n",
            "  0.61414865 0.2680089 ]\n",
            " [0.08333333 0.75       0.66666667 0.16666667 0.66666667 0.19100025\n",
            "  0.15942232 0.58333333 0.5        0.16666667 0.09360561 0.1186131\n",
            "  0.00957751 0.25       0.10286164 0.09871647 0.58333333 0.41666667\n",
            "  0.         0.25      ]\n",
            " [0.09305382 0.5        0.41666667 0.01019237 0.41666667 0.33431233\n",
            "  0.29436028 0.33333333 0.25       0.0169614  0.34204019 0.24326502\n",
            "  0.17498936 0.06105158 0.23802551 0.29010568 0.33333333 0.16666667\n",
            "  0.34613974 0.        ]]\n"
          ]
        }
      ],
      "source": [
        "print(discordance)"
      ]
    },
    {
      "cell_type": "markdown",
      "metadata": {},
      "source": [
        "Matriz de Classificação"
      ]
    },
    {
      "cell_type": "code",
      "execution_count": 145,
      "metadata": {},
      "outputs": [
        {
          "name": "stdout",
          "output_type": "stream",
          "text": [
            "[[ 4  8]\n",
            " [ 4  9]\n",
            " [ 5  3]\n",
            " [ 6  2]\n",
            " [ 6  3]\n",
            " [ 6  5]\n",
            " [ 7 10]\n",
            " [ 8  1]\n",
            " [ 9  1]\n",
            " [ 9  7]\n",
            " [10  3]\n",
            " [10  5]\n",
            " [10  6]\n",
            " [11  6]\n",
            " [11 10]]\n"
          ]
        }
      ],
      "source": [
        "print(matriz_classificacao)"
      ]
    },
    {
      "cell_type": "markdown",
      "metadata": {},
      "source": [
        "Gráfico com a Solução Destacada"
      ]
    },
    {
      "cell_type": "code",
      "execution_count": 161,
      "metadata": {},
      "outputs": [],
      "source": [
        "#Plot do plano caretsiano com a solução escolhida\n",
        "solucao = fronteira_final[result[0][0]-1]"
      ]
    },
    {
      "cell_type": "code",
      "execution_count": 146,
      "metadata": {},
      "outputs": [
        {
          "data": {
            "image/png": "[encoded data removed]",
            "text/plain": [
              "<Figure size 1000x800 with 1 Axes>"
            ]
          },
          "metadata": {},
          "output_type": "display_data"
        }
      ],
      "source": [
        "plt.figure(figsize=(10,8))\n",
        "for i in fronteira_final:\n",
        "      plt.plot(i.f1,i.f2, \"b.\")\n",
        "\n",
        "plt.title('Fronteira estimada')\n",
        "plt.xlabel('f1(x)')\n",
        "plt.ylabel('f2(x)')\n",
        "\n",
        "plt.plot(solucao.f1, solucao.f2, \"r.\")\n",
        "\n",
        "plt.show()"
      ]
    },
    {
      "cell_type": "markdown",
      "metadata": {},
      "source": [
        "Solução Final"
      ]
    },
    {
      "cell_type": "code",
      "execution_count": 147,
      "metadata": {},
      "outputs": [
        {
          "data": {
            "image/png": "[encoded data removed]",
            "text/plain": [
              "<Figure size 640x480 with 1 Axes>"
            ]
          },
          "metadata": {},
          "output_type": "display_data"
        }
      ],
      "source": [
        "\n",
        "plt.figure()\n",
        "plt.title('Solução Final');\n",
        "scatterX = []\n",
        "scatterY = []\n",
        "for i in solucao.solution:\n",
        "    scatterX.append(i[0])\n",
        "    scatterY.append(i[1])\n",
        "\n",
        "cores = [cliente.color for cliente in solucao.clientes]\n",
        "coordX = [cliente.coord[0] for cliente in solucao.clientes]\n",
        "coordY = [cliente.coord[1] for cliente in solucao.clientes]\n",
        "\n",
        "plt.scatter(scatterX, scatterY, s=30, c=colors[:len(scatterX)], marker=\"^\")\n",
        "plt.scatter(coordX, coordY, s=5, c=cores)\n",
        "\n",
        "\n",
        "plt.show()"
      ]
    },
    {
      "cell_type": "markdown",
      "metadata": {},
      "source": [
        "Implantação do método PROMETHEE II"
      ]
    },
    {
      "cell_type": "code",
      "execution_count": 118,
      "metadata": {},
      "outputs": [],
      "source": [
        "def prometheePriority(matrix, weights):\n",
        "    priorityMatrix = []\n",
        "    for linha1 in range(matrix.shape[0]):\n",
        "        for linha2 in range(matrix.shape[0]):\n",
        "            lineValues = []\n",
        "            for coluna in range(matrix.shape[1]):\n",
        "                if(not linha1 == linha2):\n",
        "                    if(matrix[linha1][coluna] - matrix[linha2][coluna] < 0):\n",
        "                        lineValues.append(0)\n",
        "                    else:\n",
        "                        lineValues.append((matrix[linha1][coluna] - matrix[linha2][coluna])*weights[coluna])\n",
        "                else:\n",
        "                    lineValues.append(0)\n",
        "            if(len(lineValues) > 0):\n",
        "                priorityMatrix.append(lineValues)\n",
        "    return np.array(priorityMatrix)\n",
        "\n",
        "\n",
        "\n",
        "    "
      ]
    },
    {
      "cell_type": "code",
      "execution_count": 119,
      "metadata": {},
      "outputs": [],
      "source": [
        "def prometheeFlow(matrix):\n",
        "    positiveFlow = []\n",
        "    negativeFlow = []\n",
        "\n",
        "    for linha in range(matrix.shape[0]):\n",
        "        positiveFlow.append(matrix.sum(axis=1)[linha]/(matrix.shape[0]-1))\n",
        "    for coluna in range(matrix.shape[1]):\n",
        "        negativeFlow.append( matrix.sum(axis=0)[coluna]/(matrix.shape[1]-1) )\n",
        "\n",
        "\n",
        "    return np.array(positiveFlow) - np.array(negativeFlow)\n",
        "\n",
        "            \n"
      ]
    },
    {
      "cell_type": "code",
      "execution_count": 120,
      "metadata": {},
      "outputs": [],
      "source": [
        "def aggredgatedPreferenceFunction(matrix, dimensao):\n",
        "    aggredatedPreferenceMatrix = []\n",
        "\n",
        "    lineValues = []\n",
        "    for linha in range(matrix.shape[0]):\n",
        "        lineValues.append(matrix[linha].sum())\n",
        "        if((linha+1)%dimensao == 0 and linha > 0):\n",
        "            aggredatedPreferenceMatrix.append(lineValues)\n",
        "            lineValues = []\n",
        "    return np.array(aggredatedPreferenceMatrix)"
      ]
    },
    {
      "cell_type": "code",
      "execution_count": 172,
      "metadata": {},
      "outputs": [
        {
          "name": "stdout",
          "output_type": "stream",
          "text": [
            "Melhor alternativa 3\n"
          ]
        }
      ],
      "source": [
        "def promethee(matrix, weights):\n",
        "  normalized_matrix = normalizeMatrix(matrix,20.0, [0,1,2,3])\n",
        "  priority = prometheePriority(normalized_matrix, weights)\n",
        "  aggredatedPreferenceMatrix = aggredgatedPreferenceFunction(priority, matrix.shape[0])\n",
        "  resultFlow = prometheeFlow(aggredatedPreferenceMatrix)  \n",
        "\n",
        "  return resultFlow,normalized_matrix,priority,aggredatedPreferenceMatrix,resultFlow\n",
        "\n",
        "\n",
        "# Aplica o método PROMETHEE II\n",
        "result,normalized_matrix,priority,aggredatedPreferenceMatrix,resultFlow = promethee(matriz_decisao,  pesos)\n",
        "resultIndex = np.argsort(result)[::-1]\n",
        "print(\"Melhor alternativa {}\".format(resultIndex[0]))\n"
      ]
    },
    {
      "cell_type": "markdown",
      "metadata": {},
      "source": [
        "Matriz Normalizada"
      ]
    },
    {
      "cell_type": "code",
      "execution_count": 166,
      "metadata": {},
      "outputs": [
        {
          "name": "stdout",
          "output_type": "stream",
          "text": [
            "[[ 6.66666667 15.54803281 13.39666538 11.83497456]\n",
            " [20.         -0.         -0.          1.60879842]\n",
            " [18.33333333  4.29437126  3.20960694 -0.        ]\n",
            " [-0.         20.         20.         20.        ]\n",
            " [16.66666667  4.83169653  4.88785418  0.50862982]\n",
            " [15.          8.48411419  5.64375402  4.83416494]\n",
            " [ 8.33333333 14.02618457 12.52212115 12.56143403]\n",
            " [ 1.66666667 18.55225698 14.47968531 12.92027314]\n",
            " [ 5.         18.23722781 14.23967468 18.05121438]\n",
            " [13.33333333 12.78820541 11.64641646  7.80939196]\n",
            " [10.         13.6869565  15.15949045 13.23372584]]\n"
          ]
        }
      ],
      "source": [
        "print(normalized_matrix)"
      ]
    },
    {
      "cell_type": "markdown",
      "metadata": {},
      "source": [
        "Matriz de prioridades"
      ]
    },
    {
      "cell_type": "code",
      "execution_count": 168,
      "metadata": {},
      "outputs": [
        {
          "name": "stdout",
          "output_type": "stream",
          "text": [
            "[[0.         0.         0.         0.        ]\n",
            " [0.         6.21921312 4.01899961 2.04523523]\n",
            " [0.         4.50146462 3.05611753 2.36699491]\n",
            " [0.66666667 0.         0.         0.        ]\n",
            " [0.         4.28653451 2.55264336 2.26526895]\n",
            " [0.         2.82556745 2.32587341 1.40016192]\n",
            " [0.         0.6087393  0.26236327 0.        ]\n",
            " [0.5        0.         0.         0.        ]\n",
            " [0.16666667 0.         0.         0.        ]\n",
            " [0.         1.10393096 0.52507467 0.80511652]\n",
            " [0.         0.74443052 0.         0.        ]\n",
            " [1.33333333 0.         0.         0.        ]\n",
            " [0.         0.         0.         0.        ]\n",
            " [0.16666667 0.         0.         0.32175968]\n",
            " [2.         0.         0.         0.        ]\n",
            " [0.33333333 0.         0.         0.22003372]\n",
            " [0.5        0.         0.         0.        ]\n",
            " [1.16666667 0.         0.         0.        ]\n",
            " [1.83333333 0.         0.         0.        ]\n",
            " [1.5        0.         0.         0.        ]\n",
            " [0.66666667 0.         0.         0.        ]\n",
            " [1.         0.         0.         0.        ]\n",
            " [1.16666667 0.         0.         0.        ]\n",
            " [0.         1.71774851 0.96288208 0.        ]\n",
            " [0.         0.         0.         0.        ]\n",
            " [1.83333333 0.         0.         0.        ]\n",
            " [0.16666667 0.         0.         0.        ]\n",
            " [0.33333333 0.         0.         0.        ]\n",
            " [1.         0.         0.         0.        ]\n",
            " [1.66666667 0.         0.         0.        ]\n",
            " [1.33333333 0.         0.         0.        ]\n",
            " [0.5        0.         0.         0.        ]\n",
            " [0.83333333 0.         0.         0.        ]\n",
            " [0.         1.78078688 1.98100039 1.63300509]\n",
            " [0.         8.         6.         3.67824032]\n",
            " [0.         6.28225149 5.03711792 4.        ]\n",
            " [0.         0.         0.         0.        ]\n",
            " [0.         6.06732139 4.53364375 3.89827404]\n",
            " [0.         4.60635432 4.3068738  3.03316701]\n",
            " [0.         2.38952617 2.24336365 1.48771319]\n",
            " [0.         0.57909721 1.65609441 1.41594537]\n",
            " [0.         0.70510888 1.7280976  0.38975712]\n",
            " [0.         2.88471784 2.50607506 2.43812161]\n",
            " [0.         2.5252174  1.45215286 1.35325483]\n",
            " [1.         0.         0.         0.        ]\n",
            " [0.         1.93267861 1.46635625 0.        ]\n",
            " [0.         0.21493011 0.50347417 0.10172596]\n",
            " [1.66666667 0.         0.         0.        ]\n",
            " [0.         0.         0.         0.        ]\n",
            " [0.16666667 0.         0.         0.        ]\n",
            " [0.83333333 0.         0.         0.        ]\n",
            " [1.5        0.         0.         0.        ]\n",
            " [1.16666667 0.         0.         0.        ]\n",
            " [0.33333333 0.         0.         0.        ]\n",
            " [0.66666667 0.         0.         0.        ]\n",
            " [0.83333333 0.         0.         0.        ]\n",
            " [0.         3.39364568 1.6931262  0.6450733 ]\n",
            " [0.         1.67589717 0.73024412 0.96683299]\n",
            " [1.5        0.         0.         0.        ]\n",
            " [0.         1.46096706 0.22676995 0.86510702]\n",
            " [0.         0.         0.         0.        ]\n",
            " [0.66666667 0.         0.         0.        ]\n",
            " [1.33333333 0.         0.         0.        ]\n",
            " [1.         0.         0.         0.        ]\n",
            " [0.16666667 0.         0.         0.        ]\n",
            " [0.5        0.         0.         0.        ]\n",
            " [0.16666667 0.         0.         0.14529189]\n",
            " [0.         5.61047383 3.75663635 2.19052712]\n",
            " [0.         3.89272532 2.79375426 2.51228681]\n",
            " [0.83333333 0.         0.         0.        ]\n",
            " [0.         3.67779521 2.29028009 2.41056084]\n",
            " [0.         2.21682815 2.06351014 1.54545382]\n",
            " [0.         0.         0.         0.        ]\n",
            " [0.66666667 0.         0.         0.        ]\n",
            " [0.33333333 0.         0.         0.        ]\n",
            " [0.         0.49519166 0.26271141 0.95040841]\n",
            " [0.         0.13569123 0.         0.        ]\n",
            " [0.         1.20168967 0.32490598 0.21705972]\n",
            " [0.         7.42090279 4.34390559 2.26229494]\n",
            " [0.         5.70315429 3.38102351 2.58405463]\n",
            " [0.16666667 0.         0.         0.        ]\n",
            " [0.         5.48822418 2.87754934 2.48232866]\n",
            " [0.         4.02725712 2.65077939 1.61722164]\n",
            " [0.         1.81042897 0.58726925 0.07176782]\n",
            " [0.         0.         0.         0.        ]\n",
            " [0.         0.12601167 0.07200319 0.        ]\n",
            " [0.         2.30562063 0.84998065 1.02217624]\n",
            " [0.         1.94612019 0.         0.        ]\n",
            " [0.         1.075678   0.25290279 1.24324796]\n",
            " [0.         7.29489112 4.2719024  3.28848319]\n",
            " [0.         5.57714262 3.30902032 3.61024288]\n",
            " [0.5        0.         0.         0.        ]\n",
            " [0.         5.36221251 2.80554615 3.50851691]\n",
            " [0.         3.90124545 2.5787762  2.64340989]\n",
            " [0.         1.6844173  0.51526606 1.09795607]\n",
            " [0.33333333 0.         0.         1.02618825]\n",
            " [0.         0.         0.         0.        ]\n",
            " [0.         2.17960896 0.77797747 2.04836448]\n",
            " [0.         1.82010852 0.         0.96349771]\n",
            " [0.66666667 0.         0.         0.        ]\n",
            " [0.         5.11528216 3.49392494 1.24011871]\n",
            " [0.         3.39753366 2.53104286 1.56187839]\n",
            " [1.33333333 0.         0.         0.        ]\n",
            " [0.         3.18260355 2.02756869 1.46015243]\n",
            " [0.         1.72163649 1.80079873 0.5950454 ]\n",
            " [0.5        0.         0.         0.        ]\n",
            " [1.16666667 0.         0.         0.        ]\n",
            " [0.83333333 0.         0.         0.        ]\n",
            " [0.         0.         0.         0.        ]\n",
            " [0.33333333 0.         0.         0.        ]\n",
            " [0.33333333 0.         0.52884752 0.27975026]\n",
            " [0.         5.4747826  4.54784714 2.32498548]\n",
            " [0.         3.7570341  3.58496505 2.64674517]\n",
            " [1.         0.         0.         0.        ]\n",
            " [0.         3.54210399 3.08149088 2.5450192 ]\n",
            " [0.         2.08113692 2.85472093 1.67991218]\n",
            " [0.16666667 0.         0.79121079 0.13445836]\n",
            " [0.83333333 0.         0.20394154 0.06269054]\n",
            " [0.5        0.         0.27594473 0.        ]\n",
            " [0.         0.35950044 1.0539222  1.08486678]\n",
            " [0.         0.         0.         0.        ]]\n"
          ]
        }
      ],
      "source": [
        "print(priority)"
      ]
    },
    {
      "cell_type": "markdown",
      "metadata": {},
      "source": [
        "Matriz de preferência agregada"
      ]
    },
    {
      "cell_type": "code",
      "execution_count": 167,
      "metadata": {},
      "outputs": [
        {
          "name": "stdout",
          "output_type": "stream",
          "text": [
            "[[ 0.         12.28344796  9.92457706  0.66666667  9.10444682  6.55160278\n",
            "   0.87110257  0.5         0.16666667  2.43412215  0.74443052]\n",
            " [ 1.33333333  0.          0.48842635  2.          0.55336705  0.5\n",
            "   1.16666667  1.83333333  1.5         0.66666667  1.        ]\n",
            " [ 1.16666667  2.68063059  0.          1.83333333  0.16666667  0.33333333\n",
            "   1.          1.66666667  1.33333333  0.5         0.83333333]\n",
            " [ 5.39479235 17.67824032 15.31936941  0.         14.49923917 11.94639513\n",
            "   6.12060302  3.65113699  2.8229636   7.8289145   5.33062509]\n",
            " [ 1.          3.39903487  0.82013024  1.66666667  0.          0.16666667\n",
            "   0.83333333  1.5         1.16666667  0.33333333  0.66666667]\n",
            " [ 0.83333333  5.73184518  3.37297428  1.5         2.55284404  0.\n",
            "   0.66666667  1.33333333  1.          0.16666667  0.5       ]\n",
            " [ 0.31195856 11.55763729  9.19876639  0.83333333  8.37863615  5.82579211\n",
            "   0.          0.66666667  0.33333333  1.70831148  0.13569123]\n",
            " [ 1.74365536 14.02710333 11.66823243  0.16666667 10.84810218  8.29525814\n",
            "   2.46946604  0.          0.19801486  4.17777752  1.94612019]\n",
            " [ 2.57182875 14.85527672 12.49640582  0.5        11.67627557  9.12343153\n",
            "   3.29763943  1.35952158  0.          5.00595091  2.78360623]\n",
            " [ 0.66666667  9.84932581  7.49045491  1.33333333  6.67032467  4.11748063\n",
            "   0.5         1.16666667  0.83333333  0.          0.33333333]\n",
            " [ 1.14193111 12.34761522  9.98874432  1.          9.16861407  6.61577004\n",
            "   1.09233582  1.09996542  0.77594473  2.49828941  0.        ]]\n"
          ]
        }
      ],
      "source": [
        "print(aggredatedPreferenceMatrix)"
      ]
    },
    {
      "cell_type": "markdown",
      "metadata": {},
      "source": [
        "Fluxo final"
      ]
    },
    {
      "cell_type": "code",
      "execution_count": 169,
      "metadata": {},
      "outputs": [
        {
          "name": "stdout",
          "output_type": "stream",
          "text": [
            "[ 2.70828971 -9.33683639 -6.92541173  7.90922796 -6.20660179 -3.58180669\n",
            "  2.0932313   4.07631061  5.353968    0.76408867  3.14554035]\n"
          ]
        }
      ],
      "source": [
        "print (resultFlow)"
      ]
    },
    {
      "cell_type": "markdown",
      "metadata": {},
      "source": [
        "Gráfico com a solução final destacada"
      ]
    },
    {
      "cell_type": "code",
      "execution_count": 170,
      "metadata": {},
      "outputs": [],
      "source": [
        "solucao = fronteira_final[resultIndex[0]]"
      ]
    },
    {
      "cell_type": "code",
      "execution_count": 173,
      "metadata": {},
      "outputs": [
        {
          "data": {
            "image/png": "[encoded data removed]",
            "text/plain": [
              "<Figure size 1000x800 with 1 Axes>"
            ]
          },
          "metadata": {},
          "output_type": "display_data"
        }
      ],
      "source": [
        "plt.figure(figsize=(10,8))\n",
        "for i in fronteira_final:\n",
        "      plt.plot(i.f1,i.f2, \"b.\")\n",
        "\n",
        "plt.title('Fronteira estimada')\n",
        "plt.xlabel('f1(x)')\n",
        "plt.ylabel('f2(x)')\n",
        "\n",
        "plt.plot(solucao.f1, solucao.f2, \"r.\")\n",
        "\n",
        "plt.show()"
      ]
    },
    {
      "cell_type": "markdown",
      "metadata": {},
      "source": [
        "Solução final"
      ]
    },
    {
      "cell_type": "code",
      "execution_count": 175,
      "metadata": {},
      "outputs": [
        {
          "data": {
            "image/png": "[encoded data removed]",
            "text/plain": [
              "<Figure size 640x480 with 1 Axes>"
            ]
          },
          "metadata": {},
          "output_type": "display_data"
        }
      ],
      "source": [
        "\n",
        "plt.figure()\n",
        "plt.title('Solução Final');\n",
        "scatterX = []\n",
        "scatterY = []\n",
        "for i in solucao.solution:\n",
        "    scatterX.append(i[0])\n",
        "    scatterY.append(i[1])\n",
        "\n",
        "cores = [cliente.color for cliente in solucao.clientes]\n",
        "coordX = [cliente.coord[0] for cliente in solucao.clientes]\n",
        "coordY = [cliente.coord[1] for cliente in solucao.clientes]\n",
        "\n",
        "plt.scatter(scatterX, scatterY, s=30, c=colors[:len(scatterX)], marker=\"^\")\n",
        "plt.scatter(coordX, coordY, s=5, c=cores)\n",
        "\n",
        "\n",
        "plt.show()"
      ]
    }
  ],
  "metadata": {
    "colab": {
      "provenance": []
    },
    "kernelspec": {
      "display_name": "Python 3",
      "name": "python3"
    },
    "language_info": {
      "codemirror_mode": {
        "name": "ipython",
        "version": 3
      },
      "file_extension": ".py",
      "mimetype": "text/x-python",
      "name": "python",
      "nbconvert_exporter": "python",
      "pygments_lexer": "ipython3",
      "version": "3.10.11"
    }
  },
  "nbformat": 4,
  "nbformat_minor": 0
}

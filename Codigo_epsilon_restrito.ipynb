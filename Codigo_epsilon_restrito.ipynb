{
  "cells": [
    {
      "cell_type": "markdown",
      "metadata": {
        "id": "l1oWbvraZ2N-"
      },
      "source": [
        "# **Teoria da Decisão - TC1**\n",
        "\n",
        "### Marcos Rezende 2019027067\n",
        "### Tiago Porto 2019027202"
      ]
    },
    {
      "cell_type": "markdown",
      "metadata": {
        "id": "ROGgz_jNabgK"
      },
      "source": [
        "Instalação dos módulos utilizados"
      ]
    },
    {
      "cell_type": "code",
      "execution_count": 34,
      "metadata": {
        "id": "I1vrIJwAZ-y1"
      },
      "outputs": [],
      "source": [
        "import numpy as np\n",
        "import copy\n",
        "import pandas as pd\n",
        "import matplotlib.pyplot as plt\n",
        "import math\n",
        "import random\n",
        "class Struct:\n",
        "  pass\n"
      ]
    },
    {
      "cell_type": "markdown",
      "metadata": {
        "id": "KZimqVJl3G4I"
      },
      "source": [
        "Carrega os dados do problema para a variável probdata"
      ]
    },
    {
      "cell_type": "code",
      "execution_count": 35,
      "metadata": {
        "id": "qBOQql8e28Ko"
      },
      "outputs": [],
      "source": [
        "def probdef():\n",
        "  originaldata = pd.read_csv('clientes.csv', header=None)\n",
        "  dataframe = pd.DataFrame(originaldata)\n",
        "  probdata = Struct()\n",
        "  probdata.coord = []\n",
        "  for i in range(len(dataframe[0])):\n",
        "    probdata.coord.append([dataframe[0][i], dataframe[1][i]])\n",
        "\n",
        "  probdata.x = dataframe[0]\n",
        "  probdata.y = dataframe[1]\n",
        "  probdata.intensity = dataframe[2]\n",
        "  return probdata"
      ]
    },
    {
      "cell_type": "markdown",
      "metadata": {
        "id": "0L1wCp_sagsA"
      },
      "source": [
        "Definição da função Shake.\n",
        "As estruturas de vizinhança implementadas foram:\n",
        "\n",
        "\n",
        "*   Movimenta um número aleatório de PAs de 5 a 15 metros em qualquer direção\n",
        "*   Movimenta todos os PAs de 5 a 15 metros em qualquer direção\n",
        "*   Adiciona um novo PA\n"
      ]
    },
    {
      "cell_type": "code",
      "execution_count": 36,
      "metadata": {
        "id": "3CRsMQ-jajd1"
      },
      "outputs": [],
      "source": [
        "def shake(x,k):\n",
        "    y = copy.deepcopy(x)\n",
        "    r = np.random.randint(0, len(x.solution)) # número de PAs que serão movidos\n",
        "    if k == 1:             # Movimenta um número aleatório de PAs 5 metros em uma direção aleatória\n",
        "\n",
        "      for i in range(r):\n",
        "        movX = np.random.randint(-1,1)*5\n",
        "        movY = np.random.randint(-1,1)*5\n",
        "\n",
        "\n",
        "        if(y.solution[i][0] + movX < 400 and y.solution[i][0] + movX > 0):\n",
        "            y.solution[i][0] = y.solution[i][0] + movX\n",
        "        else:\n",
        "          y.solution[i][0] = y.solution[i][0] - movX\n",
        "\n",
        "        if(y.solution[i][1] + movY < 400 and y.solution[i][1] + movY > 0):\n",
        "            y.solution[i][1] = y.solution[i][1] + movY\n",
        "        else:\n",
        "          y.solution[i][1] = y.solution[i][1] - movY\n",
        "\n",
        "    elif k == 2:    # Movimenta TODOS os PAs 5 metros em uma direção aleatória\n",
        "      for i in range(len(x.solution)):\n",
        "        movX = np.random.randint(-1,1)*5*np.random.randint(1,3)\n",
        "        movY = np.random.randint(-1,1)*5*np.random.randint(1,3)\n",
        "        # print(movX, movY)\n",
        "\n",
        "        if(y.solution[i][0] + movX < 400 and y.solution[i][0] + movX > 0):\n",
        "            y.solution[i][0] = y.solution[i][0] + movX\n",
        "        else:\n",
        "          y.solution[i][0] = y.solution[i][0] - movX\n",
        "\n",
        "        if(y.solution[i][1] + movY < 400 and y.solution[i][1] + movY > 0):\n",
        "            y.solution[i][1] = y.solution[i][1] + movY\n",
        "        else:\n",
        "          y.solution[i][1] = y.solution[i][1] - movY\n",
        "\n",
        "    elif k == 3:\n",
        "        # Adiciona um novo PA em uma posição aleatória\n",
        "        # if(len(x.solution) < 25):\n",
        "        tempPA = [np.random.randint(0,81)*5, np.random.randint(0,81)*5]\n",
        "        y.solution.append(tempPA)\n",
        "    elif k == 4:\n",
        "      if(len(y.solution) > 1):\n",
        "        pos = np.random.randint(0, len(y.solution) - 1)\n",
        "        del y.solution[pos]\n",
        "    return y"
      ]
    },
    {
      "cell_type": "markdown",
      "metadata": {
        "id": "g38DkltyagrS"
      },
      "source": [
        "Definição da Heuristica Construtiva.\n",
        "A Lógica utilizada foi distribuir igualmente os PAs ao longo de toda a extensão do local"
      ]
    },
    {
      "cell_type": "code",
      "execution_count": 37,
      "metadata": {
        "id": "bGxSSbbcbPrh"
      },
      "outputs": [],
      "source": [
        "def generate_initial_solution(f):\n",
        "  # Distribuir igualmente 9 PAs por todo o ambiente\n",
        "\n",
        "  y = []\n",
        "  if f == \"f1\":\n",
        "    for i in range(3):\n",
        "      for j in range(3):\n",
        "        coordY = ((j)*133) + 70\n",
        "        coordX = ((i)*133) + 70\n",
        "        y.append([coordX,coordY])\n",
        "  elif f == \"f3\":\n",
        "    for i in range(5):\n",
        "      for j in range(5):\n",
        "        coordY = ((j)*80) + 60\n",
        "        coordX = ((i)*80) + 60\n",
        "        y.append([coordX,coordY])\n",
        "\n",
        "  else:\n",
        "    for i in range(5):\n",
        "      for j in range(5):\n",
        "        coordY = ((j)*80)\n",
        "        coordX = ((i)*80)\n",
        "        y.append([coordX,coordY])\n",
        "  x = Struct()\n",
        "  x.solution = y\n",
        "  return x\n",
        "\n",
        "# generate_initial_solution()"
      ]
    },
    {
      "cell_type": "markdown",
      "metadata": {
        "id": "WzKwGwoPCBnX"
      },
      "source": [
        "Troca de vizinhança\n"
      ]
    },
    {
      "cell_type": "code",
      "execution_count": 38,
      "metadata": {
        "id": "4pqF2H0DzJdL"
      },
      "outputs": [],
      "source": [
        "def neighborhoodChange(x, y, k):\n",
        "\n",
        "    if y.fitness < x.fitness:\n",
        "        x = copy.deepcopy(y)\n",
        "        k = 1\n",
        "    else:\n",
        "        k += 1\n",
        "\n",
        "    return x, k"
      ]
    },
    {
      "cell_type": "markdown",
      "metadata": {
        "id": "LPGSlWUnB6AJ"
      },
      "source": [
        "Função para calcular a distância euclidiana entre 2 pontos"
      ]
    },
    {
      "cell_type": "code",
      "execution_count": 39,
      "metadata": {
        "id": "3uFMyRHCOtGi"
      },
      "outputs": [],
      "source": [
        "def calcDist(coord1, coord2):\n",
        "  return abs(math.sqrt((coord1[0] - coord2[0])**2 + (coord1[1] - coord2[1])**2))\n"
      ]
    },
    {
      "cell_type": "markdown",
      "metadata": {
        "id": "dY1GRK9fCDWo"
      },
      "source": [
        "Definição da função objetivo e restrições\n"
      ]
    },
    {
      "cell_type": "code",
      "execution_count": 40,
      "metadata": {
        "id": "wBYdGcy3TI2O"
      },
      "outputs": [],
      "source": [
        "colors = [\n",
        "    \"#00FFFF\", \"#0000FF\", \"#008000\", \"#FFFF00\", \"#FFA500\",\n",
        "    \"#800080\", \"#00FF00\", \"#FF00FF\", \"#008080\", \"#FFD700\",\n",
        "    \"#A52A2A\", \"#696969\", \"#2E8B57\", \"#800000\", \"#9400D3\",\n",
        "    \"#00CED1\", \"#8A2BE2\", \"#6B8E23\", \"#20B2AA\", \"#32CD32\",\n",
        "    \"#808000\", \"#008B8B\", \"#483D8B\", \"#2F4F4F\", \"#008080\", \"#00FFFF\", \"#0000FF\", \"#008000\", \"#FFFF00\", \"#FFA500\",\n",
        "    \"#800080\", \"#00FF00\", \"#FF00FF\", \"#008080\", \"#FFD700\",\n",
        "    \"#A52A2A\", \"#696969\", \"#2E8B57\", \"#800000\", \"#9400D3\",\n",
        "    \"#00CED1\", \"#8A2BE2\", \"#6B8E23\", \"#20B2AA\", \"#32CD32\",\n",
        "    \"#808000\", \"#008B8B\", \"#483D8B\", \"#2F4F4F\", \"#008080\"\n",
        "  ]"
      ]
    },
    {
      "cell_type": "code",
      "execution_count": 41,
      "metadata": {},
      "outputs": [],
      "source": [
        "def normalizaFuncoes(fx, f):\n",
        "    if(f == \"f1\"):\n",
        "        return (fx - 0)/(25 - 0)\n",
        "    else:\n",
        "        return (fx - 6891)/(56510-6891)"
      ]
    },
    {
      "cell_type": "code",
      "execution_count": 116,
      "metadata": {
        "id": "GQT0FMG53W69"
      },
      "outputs": [],
      "source": [
        "def fobj(x, probdata, f, e):\n",
        "\n",
        "\n",
        "  penalidade = 0.0\n",
        "\n",
        "\n",
        "\n",
        "  #  R5: Penaliza a solução se tiver mais de 25 PAs\n",
        "  if(len(x.solution) > 25):\n",
        "    # pass\n",
        "    penalidade += (len(x.solution) - 25)**2 * 100\n",
        "\n",
        "\n",
        "  # R3 e R4: Penaliza a solução se nem todos os clientes estiverem no raio de atuação de um PA\n",
        "  # e que cada cliente esteja conectado em apenas 1 PAa\n",
        "\n",
        "  clientes = []\n",
        "  for i in range(len(probdata.coord)):\n",
        "\n",
        "    cliente = Struct()\n",
        "    cliente.id = i\n",
        "    cliente.pa = None\n",
        "    cliente.dist_pa = 0.0\n",
        "    cliente.color = '#ff0000'\n",
        "    cliente.coord = probdata.coord[i]\n",
        "    clientes.append(cliente)\n",
        "\n",
        "    for j in range(len(x.solution)):\n",
        "      dist = calcDist(x.solution[j], probdata.coord[i])\n",
        "      if(dist <= 70):\n",
        "\n",
        "        if not(clientes[i].pa == None):\n",
        "          if(clientes[i].dist_pa > dist):\n",
        "            clientes[i].dist_pa = dist\n",
        "            clientes[i].pa = j\n",
        "            clientes[i].color = colors[j]\n",
        "        else:\n",
        "          clientes[i].dist_pa = dist\n",
        "          clientes[i].pa = j\n",
        "          clientes[i].color = colors[j]\n",
        "      else:\n",
        "        if(clientes[i].dist_pa == None):\n",
        "          clientes[i].dist_pa = dist\n",
        "        else:\n",
        "          if(clientes[i].dist_pa > dist):\n",
        "            clientes[i].dist_pa = dist\n",
        "\n",
        "\n",
        "\n",
        "  clientes_nao_atendidos = np.sum([cliente.pa is None for cliente in np.array(clientes)])\n",
        "  # R1: Todos os clientes tem que ser atendidos (considerando cobertura 95%)\n",
        "  toleranacia =  len(probdata.coord)*0.05 - clientes_nao_atendidos\n",
        "  if(toleranacia < 0):\n",
        "    # pass\n",
        "    # print(clientes_nao_atendidos)\n",
        "    penalidade += 100 * toleranacia**2\n",
        "\n",
        "\n",
        "  # R2: Penaliza se a quantidade de clientes conectados ultrapassar a capacidade do PA\n",
        "  pas = np.zeros(len(x.solution))\n",
        "  capacidade = 54\n",
        "  for i in clientes:\n",
        "    pas[i.pa] += probdata.intensity[i.id]\n",
        "    filteredArray = np.where(pas <= capacidade, 0, pas)\n",
        "    penalidade +=  abs(np.sum(filteredArray**2)*100)\n",
        "\n",
        "\n",
        "\n",
        "  # fitness = len(x.solution)\n",
        "  \n",
        "  # fitnessF2 = 0.0\n",
        "  # for i in clientes:\n",
        "  #   fitnessF2 += i.dist_pa\n",
        "  \n",
        "  # if fitnessF2 > e:\n",
        "  #  penalidade = (fitnessF2 - e)**2 * 100\n",
        "\n",
        "  fitness = 0\n",
        "  \n",
        "  for i in clientes:\n",
        "    fitness += i.dist_pa\n",
        "  \n",
        "  if len(x.solution) >= e:\n",
        "   penalidade += (len(x.solution) - e)**2 * 100\n",
        "\n",
        "  x.capacidade = pas\n",
        "  x.fitness = fitness + penalidade\n",
        "  x.clientes = clientes\n",
        "  x.f1 = len(x.solution)\n",
        "  x.f2 = fitness\n",
        "  return x\n",
        "\n",
        "\n",
        "\n",
        "\n",
        "\n",
        "\n"
      ]
    },
    {
      "cell_type": "markdown",
      "metadata": {
        "id": "hCF59DhxCGFG"
      },
      "source": [
        "Implementação do Best Improvement"
      ]
    },
    {
      "cell_type": "code",
      "execution_count": 43,
      "metadata": {
        "id": "aVO3qmbqCFw3"
      },
      "outputs": [],
      "source": [
        "def bestImprovement(x, kmax, probdata, f, w):\n",
        "\n",
        "  y = copy.deepcopy(x)\n",
        "  melhorSolucao = fobj(y, probdata, f,w)\n",
        "  for k in range(kmax):\n",
        "    y = shake(y,k+1)\n",
        "    resultado = fobj(y, probdata, f, w)\n",
        "    if(resultado.fitness <= melhorSolucao.fitness):\n",
        "      melhorSolucao = resultado\n",
        "  return melhorSolucao\n"
      ]
    },
    {
      "cell_type": "markdown",
      "metadata": {},
      "source": [
        "Função para evitar acrescentar soluções dominadas no conjunto de soluções"
      ]
    },
    {
      "cell_type": "code",
      "execution_count": 111,
      "metadata": {},
      "outputs": [],
      "source": [
        "def nondominatedsolution(solutionsList, currentSolution):\n",
        "    if(len(solutionsList) == 0):\n",
        "        return True\n",
        "    for solution in solutionsList:\n",
        "        if(currentSolution[0] >= solution.f1 and currentSolution[1] > solution.f2):\n",
        "            return False\n",
        "    return True"
      ]
    },
    {
      "cell_type": "markdown",
      "metadata": {},
      "source": [
        "Função para limpar possíveis soluções dominadas do conjunto de soluções"
      ]
    },
    {
      "cell_type": "code",
      "execution_count": 112,
      "metadata": {},
      "outputs": [],
      "source": [
        "def removeDominatedSolutions (solutionsList):\n",
        "    for solution in solutionsList:\n",
        "        for solution2 in solutionsList:\n",
        "            if(solution2.f1 >= solution.f1 and solution2.f2 > solution.f2):\n",
        "                solutionsList.remove(solution2)\n",
        "    return solutionsList\n",
        "\n"
      ]
    },
    {
      "cell_type": "markdown",
      "metadata": {},
      "source": [
        "### Implementação do método BVNS"
      ]
    },
    {
      "cell_type": "code",
      "execution_count": 117,
      "metadata": {
        "id": "lJ5B5fOtGiWv"
      },
      "outputs": [
        {
          "data": {
            "image/png": "[encoded data removed]",
            "text/plain": [
              "<Figure size 640x480 with 1 Axes>"
            ]
          },
          "metadata": {},
          "output_type": "display_data"
        }
      ],
      "source": [
        "'''\n",
        "Implementa uma metaheurística BVNS\n",
        "'''\n",
        "\n",
        "def bvns(f, max_num_sol_avaliadas):\n",
        "\n",
        "\n",
        "  # Número de estruturas de vizinhanças definidas\n",
        "  kmax = 4\n",
        "\n",
        "  # Faz a leitura dos dados da instância do problema\n",
        "  probdata = probdef()\n",
        "\n",
        "  # Gera solução inicial\n",
        "  initial_solution = generate_initial_solution(f)\n",
        "\n",
        " \n",
        "  # Contador do número de soluções candidatas avaliadas\n",
        "  min_episolon = 9#6891\n",
        "  max_episolon = 25#56510\n",
        "\n",
        "  # episolons = [random.randint(min_episolon, max_episolon) for _ in range(50)]\n",
        "\n",
        "  # Ciclo iterativo do método\n",
        "  for color in [\"b.\", \"g.\", \"r.\", \"y.\", \"k.\"]:\n",
        "    solucoes = []\n",
        "    num_iteracoes = 0\n",
        "    max_iteracoes = 50\n",
        "    while len(solucoes) < 20 and num_iteracoes < max_iteracoes:\n",
        "      if(num_iteracoes > max_iteracoes):\n",
        "        break\n",
        "      num_iteracoes += 1\n",
        "      print (\"Num Solucoes: {} Num Iteracoes {}\".format(len(solucoes), num_iteracoes))\n",
        "\n",
        "      num_sol_avaliadas = 1\n",
        "      episolon = random.randint(min_episolon, max_episolon)\n",
        "      x = fobj(initial_solution,probdata, f, episolon)\n",
        "      fit = None\n",
        "      globalX = None\n",
        "\n",
        "      while num_sol_avaliadas < max_num_sol_avaliadas:\n",
        "\n",
        "        k = 1\n",
        "        while k <= kmax:\n",
        "\n",
        "          # Gera uma solução candidata na k-ésima vizinhança de x\n",
        "          y = shake(x,k)\n",
        "          y = fobj(y,probdata, f, episolon)\n",
        "\n",
        "          y = bestImprovement(y, kmax, probdata, f, episolon)\n",
        "          num_sol_avaliadas += 1\n",
        "\n",
        "          # Atualiza solução corrente e estrutura de vizinhança (se necessário)\n",
        "          x,k = neighborhoodChange(x,y,k)\n",
        "          if fit == None or fit >= x.fitness:\n",
        "            fit = x.fitness\n",
        "            globalX = x\n",
        "          if num_sol_avaliadas > max_num_sol_avaliadas:\n",
        "            break\n",
        "\n",
        "      isNonDominatedSolution = nondominatedsolution(solucoes, [globalX.f1, globalX.f2])\n",
        "      if(isNonDominatedSolution == True):\n",
        "        solucoes.append(globalX)\n",
        "        solucoes = removeDominatedSolutions(solucoes)\n",
        "\n",
        "    for i in solucoes:\n",
        "      print(\"f1 {} f2 {}\".format(i.f1, i.f2))\n",
        "      plt.plot(i.f1,i.f2,color)\n",
        "plt.title('Soluções estimadas')\n",
        "plt.xlabel('f1(x)')\n",
        "plt.ylabel('f2(x)')\n",
        "plt.show()\n",
        "\n"
      ]
    },
    {
      "cell_type": "code",
      "execution_count": 118,
      "metadata": {
        "colab": {
          "base_uri": "https://localhost:8080/",
          "height": 1000
        },
        "id": "y9ILhzy4m-0F",
        "outputId": "ee557517-2dfc-42b7-8c7b-942e5573fa79"
      },
      "outputs": [
        {
          "name": "stdout",
          "output_type": "stream",
          "text": [
            "Num Solucoes: 0 Num Iteracoes 1\n",
            "Num Solucoes: 1 Num Iteracoes 2\n",
            "Num Solucoes: 2 Num Iteracoes 3\n",
            "Num Solucoes: 3 Num Iteracoes 4\n",
            "Num Solucoes: 3 Num Iteracoes 5\n",
            "Num Solucoes: 3 Num Iteracoes 6\n",
            "Num Solucoes: 4 Num Iteracoes 7\n",
            "Num Solucoes: 4 Num Iteracoes 8\n",
            "Num Solucoes: 5 Num Iteracoes 9\n",
            "Num Solucoes: 6 Num Iteracoes 10\n",
            "Num Solucoes: 6 Num Iteracoes 11\n",
            "Num Solucoes: 6 Num Iteracoes 12\n",
            "Num Solucoes: 7 Num Iteracoes 13\n",
            "Num Solucoes: 7 Num Iteracoes 14\n",
            "Num Solucoes: 8 Num Iteracoes 15\n",
            "Num Solucoes: 8 Num Iteracoes 16\n",
            "Num Solucoes: 8 Num Iteracoes 17\n",
            "Num Solucoes: 9 Num Iteracoes 18\n",
            "Num Solucoes: 9 Num Iteracoes 19\n",
            "Num Solucoes: 9 Num Iteracoes 20\n",
            "Num Solucoes: 9 Num Iteracoes 21\n",
            "Num Solucoes: 9 Num Iteracoes 22\n",
            "Num Solucoes: 9 Num Iteracoes 23\n",
            "Num Solucoes: 9 Num Iteracoes 24\n",
            "Num Solucoes: 9 Num Iteracoes 25\n",
            "Num Solucoes: 10 Num Iteracoes 26\n",
            "Num Solucoes: 10 Num Iteracoes 27\n",
            "Num Solucoes: 10 Num Iteracoes 28\n",
            "Num Solucoes: 9 Num Iteracoes 29\n",
            "Num Solucoes: 8 Num Iteracoes 30\n",
            "Num Solucoes: 9 Num Iteracoes 31\n",
            "Num Solucoes: 9 Num Iteracoes 32\n",
            "Num Solucoes: 9 Num Iteracoes 33\n",
            "Num Solucoes: 9 Num Iteracoes 34\n",
            "Num Solucoes: 9 Num Iteracoes 35\n",
            "Num Solucoes: 9 Num Iteracoes 36\n",
            "Num Solucoes: 9 Num Iteracoes 37\n",
            "Num Solucoes: 9 Num Iteracoes 38\n",
            "Num Solucoes: 9 Num Iteracoes 39\n",
            "Num Solucoes: 8 Num Iteracoes 40\n",
            "Num Solucoes: 9 Num Iteracoes 41\n",
            "Num Solucoes: 8 Num Iteracoes 42\n",
            "Num Solucoes: 8 Num Iteracoes 43\n",
            "Num Solucoes: 8 Num Iteracoes 44\n",
            "Num Solucoes: 9 Num Iteracoes 45\n",
            "Num Solucoes: 9 Num Iteracoes 46\n",
            "Num Solucoes: 9 Num Iteracoes 47\n",
            "Num Solucoes: 9 Num Iteracoes 48\n",
            "Num Solucoes: 9 Num Iteracoes 49\n",
            "Num Solucoes: 9 Num Iteracoes 50\n",
            "f1 19 f2 7771.46549068316\n",
            "f1 25 f2 6621.573193705277\n",
            "f1 18 f2 7999.072609598489\n",
            "f1 13 f2 9701.75948756356\n",
            "f1 24 f2 7106.156225497876\n",
            "f1 16 f2 8081.568413915167\n",
            "f1 22 f2 7118.990387280815\n",
            "f1 14 f2 9039.117835952904\n",
            "f1 21 f2 7611.129569454673\n",
            "Num Solucoes: 0 Num Iteracoes 1\n",
            "Num Solucoes: 1 Num Iteracoes 2\n",
            "Num Solucoes: 2 Num Iteracoes 3\n",
            "Num Solucoes: 3 Num Iteracoes 4\n",
            "Num Solucoes: 3 Num Iteracoes 5\n",
            "Num Solucoes: 3 Num Iteracoes 6\n",
            "Num Solucoes: 4 Num Iteracoes 7\n",
            "Num Solucoes: 4 Num Iteracoes 8\n",
            "Num Solucoes: 4 Num Iteracoes 9\n",
            "Num Solucoes: 5 Num Iteracoes 10\n",
            "Num Solucoes: 5 Num Iteracoes 11\n",
            "Num Solucoes: 5 Num Iteracoes 12\n",
            "Num Solucoes: 5 Num Iteracoes 13\n",
            "Num Solucoes: 5 Num Iteracoes 14\n",
            "Num Solucoes: 6 Num Iteracoes 15\n",
            "Num Solucoes: 7 Num Iteracoes 16\n",
            "Num Solucoes: 7 Num Iteracoes 17\n",
            "Num Solucoes: 7 Num Iteracoes 18\n",
            "Num Solucoes: 8 Num Iteracoes 19\n",
            "Num Solucoes: 8 Num Iteracoes 20\n",
            "Num Solucoes: 8 Num Iteracoes 21\n",
            "Num Solucoes: 8 Num Iteracoes 22\n",
            "Num Solucoes: 8 Num Iteracoes 23\n",
            "Num Solucoes: 8 Num Iteracoes 24\n",
            "Num Solucoes: 8 Num Iteracoes 25\n",
            "Num Solucoes: 8 Num Iteracoes 26\n",
            "Num Solucoes: 8 Num Iteracoes 27\n",
            "Num Solucoes: 8 Num Iteracoes 28\n",
            "Num Solucoes: 9 Num Iteracoes 29\n",
            "Num Solucoes: 10 Num Iteracoes 30\n",
            "Num Solucoes: 10 Num Iteracoes 31\n",
            "Num Solucoes: 10 Num Iteracoes 32\n",
            "Num Solucoes: 10 Num Iteracoes 33\n",
            "Num Solucoes: 10 Num Iteracoes 34\n",
            "Num Solucoes: 10 Num Iteracoes 35\n",
            "Num Solucoes: 10 Num Iteracoes 36\n",
            "Num Solucoes: 10 Num Iteracoes 37\n",
            "Num Solucoes: 10 Num Iteracoes 38\n",
            "Num Solucoes: 10 Num Iteracoes 39\n",
            "Num Solucoes: 10 Num Iteracoes 40\n",
            "Num Solucoes: 11 Num Iteracoes 41\n",
            "Num Solucoes: 11 Num Iteracoes 42\n",
            "Num Solucoes: 11 Num Iteracoes 43\n",
            "Num Solucoes: 11 Num Iteracoes 44\n",
            "Num Solucoes: 11 Num Iteracoes 45\n",
            "Num Solucoes: 11 Num Iteracoes 46\n",
            "Num Solucoes: 11 Num Iteracoes 47\n",
            "Num Solucoes: 11 Num Iteracoes 48\n",
            "Num Solucoes: 11 Num Iteracoes 49\n",
            "Num Solucoes: 11 Num Iteracoes 50\n",
            "f1 17 f2 8413.17675941369\n",
            "f1 20 f2 7823.944941818639\n",
            "f1 16 f2 8584.12870304961\n",
            "f1 13 f2 9298.945274912807\n",
            "f1 14 f2 8858.035728317926\n",
            "f1 22 f2 7711.539079230519\n",
            "f1 23 f2 6888.955056896626\n",
            "f1 19 f2 7835.688209374835\n",
            "f1 15 f2 8615.581660139269\n",
            "f1 18 f2 7945.251554812583\n",
            "f1 24 f2 6803.1297125226365\n",
            "Num Solucoes: 0 Num Iteracoes 1\n",
            "Num Solucoes: 1 Num Iteracoes 2\n",
            "Num Solucoes: 2 Num Iteracoes 3\n",
            "Num Solucoes: 3 Num Iteracoes 4\n",
            "Num Solucoes: 4 Num Iteracoes 5\n",
            "Num Solucoes: 4 Num Iteracoes 6\n",
            "Num Solucoes: 5 Num Iteracoes 7\n",
            "Num Solucoes: 5 Num Iteracoes 8\n",
            "Num Solucoes: 5 Num Iteracoes 9\n",
            "Num Solucoes: 5 Num Iteracoes 10\n",
            "Num Solucoes: 6 Num Iteracoes 11\n",
            "Num Solucoes: 6 Num Iteracoes 12\n",
            "Num Solucoes: 6 Num Iteracoes 13\n",
            "Num Solucoes: 6 Num Iteracoes 14\n",
            "Num Solucoes: 6 Num Iteracoes 15\n",
            "Num Solucoes: 7 Num Iteracoes 16\n",
            "Num Solucoes: 7 Num Iteracoes 17\n",
            "Num Solucoes: 8 Num Iteracoes 18\n",
            "Num Solucoes: 8 Num Iteracoes 19\n",
            "Num Solucoes: 9 Num Iteracoes 20\n",
            "Num Solucoes: 10 Num Iteracoes 21\n",
            "Num Solucoes: 10 Num Iteracoes 22\n",
            "Num Solucoes: 10 Num Iteracoes 23\n",
            "Num Solucoes: 10 Num Iteracoes 24\n",
            "Num Solucoes: 10 Num Iteracoes 25\n",
            "Num Solucoes: 10 Num Iteracoes 26\n",
            "Num Solucoes: 10 Num Iteracoes 27\n",
            "Num Solucoes: 10 Num Iteracoes 28\n",
            "Num Solucoes: 10 Num Iteracoes 29\n",
            "Num Solucoes: 10 Num Iteracoes 30\n",
            "Num Solucoes: 10 Num Iteracoes 31\n",
            "Num Solucoes: 11 Num Iteracoes 32\n",
            "Num Solucoes: 11 Num Iteracoes 33\n",
            "Num Solucoes: 11 Num Iteracoes 34\n",
            "Num Solucoes: 11 Num Iteracoes 35\n",
            "Num Solucoes: 11 Num Iteracoes 36\n",
            "Num Solucoes: 11 Num Iteracoes 37\n",
            "Num Solucoes: 11 Num Iteracoes 38\n",
            "Num Solucoes: 11 Num Iteracoes 39\n",
            "Num Solucoes: 11 Num Iteracoes 40\n",
            "Num Solucoes: 11 Num Iteracoes 41\n",
            "Num Solucoes: 11 Num Iteracoes 42\n",
            "Num Solucoes: 11 Num Iteracoes 43\n",
            "Num Solucoes: 11 Num Iteracoes 44\n",
            "Num Solucoes: 11 Num Iteracoes 45\n",
            "Num Solucoes: 10 Num Iteracoes 46\n",
            "Num Solucoes: 10 Num Iteracoes 47\n",
            "Num Solucoes: 10 Num Iteracoes 48\n",
            "Num Solucoes: 10 Num Iteracoes 49\n",
            "Num Solucoes: 10 Num Iteracoes 50\n",
            "f1 17 f2 8491.166396260343\n",
            "f1 18 f2 7920.565932265827\n",
            "f1 15 f2 8737.778857652707\n",
            "f1 19 f2 7671.641069802775\n",
            "f1 25 f2 6612.113262603639\n",
            "f1 13 f2 9748.213591151578\n",
            "f1 21 f2 7248.141612891477\n",
            "f1 23 f2 6956.562871787243\n",
            "f1 14 f2 8747.568063523606\n",
            "f1 16 f2 8726.390888314345\n",
            "Num Solucoes: 0 Num Iteracoes 1\n",
            "Num Solucoes: 1 Num Iteracoes 2\n",
            "Num Solucoes: 2 Num Iteracoes 3\n",
            "Num Solucoes: 3 Num Iteracoes 4\n",
            "Num Solucoes: 4 Num Iteracoes 5\n",
            "Num Solucoes: 5 Num Iteracoes 6\n",
            "Num Solucoes: 5 Num Iteracoes 7\n",
            "Num Solucoes: 6 Num Iteracoes 8\n",
            "Num Solucoes: 6 Num Iteracoes 9\n",
            "Num Solucoes: 6 Num Iteracoes 10\n",
            "Num Solucoes: 7 Num Iteracoes 11\n",
            "Num Solucoes: 7 Num Iteracoes 12\n",
            "Num Solucoes: 7 Num Iteracoes 13\n",
            "Num Solucoes: 7 Num Iteracoes 14\n",
            "Num Solucoes: 8 Num Iteracoes 15\n",
            "Num Solucoes: 8 Num Iteracoes 16\n",
            "Num Solucoes: 8 Num Iteracoes 17\n",
            "Num Solucoes: 8 Num Iteracoes 18\n",
            "Num Solucoes: 8 Num Iteracoes 19\n",
            "Num Solucoes: 8 Num Iteracoes 20\n",
            "Num Solucoes: 8 Num Iteracoes 21\n",
            "Num Solucoes: 8 Num Iteracoes 22\n",
            "Num Solucoes: 8 Num Iteracoes 23\n",
            "Num Solucoes: 8 Num Iteracoes 24\n",
            "Num Solucoes: 8 Num Iteracoes 25\n",
            "Num Solucoes: 8 Num Iteracoes 26\n",
            "Num Solucoes: 8 Num Iteracoes 27\n",
            "Num Solucoes: 8 Num Iteracoes 28\n",
            "Num Solucoes: 8 Num Iteracoes 29\n",
            "Num Solucoes: 8 Num Iteracoes 30\n",
            "Num Solucoes: 8 Num Iteracoes 31\n",
            "Num Solucoes: 8 Num Iteracoes 32\n",
            "Num Solucoes: 8 Num Iteracoes 33\n",
            "Num Solucoes: 8 Num Iteracoes 34\n",
            "Num Solucoes: 8 Num Iteracoes 35\n",
            "Num Solucoes: 8 Num Iteracoes 36\n",
            "Num Solucoes: 8 Num Iteracoes 37\n",
            "Num Solucoes: 9 Num Iteracoes 38\n",
            "Num Solucoes: 9 Num Iteracoes 39\n",
            "Num Solucoes: 9 Num Iteracoes 40\n",
            "Num Solucoes: 9 Num Iteracoes 41\n",
            "Num Solucoes: 9 Num Iteracoes 42\n",
            "Num Solucoes: 9 Num Iteracoes 43\n",
            "Num Solucoes: 9 Num Iteracoes 44\n",
            "Num Solucoes: 9 Num Iteracoes 45\n",
            "Num Solucoes: 9 Num Iteracoes 46\n",
            "Num Solucoes: 9 Num Iteracoes 47\n",
            "Num Solucoes: 9 Num Iteracoes 48\n",
            "Num Solucoes: 9 Num Iteracoes 49\n",
            "Num Solucoes: 9 Num Iteracoes 50\n",
            "f1 19 f2 7563.526228660485\n",
            "f1 21 f2 7203.202212122366\n",
            "f1 15 f2 8763.8016282005\n",
            "f1 14 f2 9038.291801760368\n",
            "f1 24 f2 6746.601122541623\n",
            "f1 13 f2 9187.951932469397\n",
            "f1 18 f2 8128.352790967369\n",
            "f1 17 f2 8254.096479644157\n",
            "f1 22 f2 6915.616539254273\n",
            "Num Solucoes: 0 Num Iteracoes 1\n",
            "Num Solucoes: 1 Num Iteracoes 2\n",
            "Num Solucoes: 2 Num Iteracoes 3\n",
            "Num Solucoes: 3 Num Iteracoes 4\n",
            "Num Solucoes: 4 Num Iteracoes 5\n",
            "Num Solucoes: 5 Num Iteracoes 6\n",
            "Num Solucoes: 5 Num Iteracoes 7\n",
            "Num Solucoes: 6 Num Iteracoes 8\n",
            "Num Solucoes: 7 Num Iteracoes 9\n",
            "Num Solucoes: 7 Num Iteracoes 10\n",
            "Num Solucoes: 7 Num Iteracoes 11\n",
            "Num Solucoes: 7 Num Iteracoes 12\n",
            "Num Solucoes: 7 Num Iteracoes 13\n",
            "Num Solucoes: 7 Num Iteracoes 14\n",
            "Num Solucoes: 7 Num Iteracoes 15\n",
            "Num Solucoes: 7 Num Iteracoes 16\n",
            "Num Solucoes: 7 Num Iteracoes 17\n",
            "Num Solucoes: 8 Num Iteracoes 18\n",
            "Num Solucoes: 8 Num Iteracoes 19\n",
            "Num Solucoes: 8 Num Iteracoes 20\n",
            "Num Solucoes: 8 Num Iteracoes 21\n",
            "Num Solucoes: 8 Num Iteracoes 22\n",
            "Num Solucoes: 8 Num Iteracoes 23\n",
            "Num Solucoes: 8 Num Iteracoes 24\n",
            "Num Solucoes: 8 Num Iteracoes 25\n",
            "Num Solucoes: 8 Num Iteracoes 26\n",
            "Num Solucoes: 8 Num Iteracoes 27\n",
            "Num Solucoes: 8 Num Iteracoes 28\n",
            "Num Solucoes: 8 Num Iteracoes 29\n",
            "Num Solucoes: 8 Num Iteracoes 30\n",
            "Num Solucoes: 8 Num Iteracoes 31\n",
            "Num Solucoes: 8 Num Iteracoes 32\n",
            "Num Solucoes: 8 Num Iteracoes 33\n",
            "Num Solucoes: 8 Num Iteracoes 34\n",
            "Num Solucoes: 8 Num Iteracoes 35\n",
            "Num Solucoes: 8 Num Iteracoes 36\n",
            "Num Solucoes: 8 Num Iteracoes 37\n",
            "Num Solucoes: 8 Num Iteracoes 38\n",
            "Num Solucoes: 8 Num Iteracoes 39\n",
            "Num Solucoes: 8 Num Iteracoes 40\n",
            "Num Solucoes: 8 Num Iteracoes 41\n",
            "Num Solucoes: 9 Num Iteracoes 42\n",
            "Num Solucoes: 9 Num Iteracoes 43\n",
            "Num Solucoes: 9 Num Iteracoes 44\n",
            "Num Solucoes: 9 Num Iteracoes 45\n",
            "Num Solucoes: 9 Num Iteracoes 46\n",
            "Num Solucoes: 9 Num Iteracoes 47\n",
            "Num Solucoes: 9 Num Iteracoes 48\n",
            "Num Solucoes: 9 Num Iteracoes 49\n",
            "Num Solucoes: 9 Num Iteracoes 50\n",
            "f1 14 f2 8980.970979769818\n",
            "f1 16 f2 8397.582309229549\n",
            "f1 21 f2 7364.10494239109\n",
            "f1 22 f2 7029.546099455797\n",
            "f1 20 f2 7574.578099304146\n",
            "f1 13 f2 9337.166535487628\n",
            "f1 18 f2 8075.137558452562\n",
            "f1 17 f2 8228.616899695258\n",
            "f1 24 f2 6634.480719329296\n"
          ]
        },
        {
          "data": {
            "image/png": "[encoded data removed]",
            "text/plain": [
              "<Figure size 640x480 with 1 Axes>"
            ]
          },
          "metadata": {},
          "output_type": "display_data"
        }
      ],
      "source": [
        "bvns(\"f1\", 400)"
      ]
    },
    {
      "cell_type": "markdown",
      "metadata": {
        "id": "uDXLcWhQbkv6"
      },
      "source": []
    }
  ],
  "metadata": {
    "colab": {
      "provenance": []
    },
    "kernelspec": {
      "display_name": "Python 3",
      "name": "python3"
    },
    "language_info": {
      "codemirror_mode": {
        "name": "ipython",
        "version": 3
      },
      "file_extension": ".py",
      "mimetype": "text/x-python",
      "name": "python",
      "nbconvert_exporter": "python",
      "pygments_lexer": "ipython3",
      "version": "3.10.11"
    }
  },
  "nbformat": 4,
  "nbformat_minor": 0
}
